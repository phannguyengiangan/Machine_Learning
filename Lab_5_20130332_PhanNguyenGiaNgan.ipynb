{
  "nbformat": 4,
  "nbformat_minor": 0,
  "metadata": {
    "colab": {
      "provenance": [],
      "include_colab_link": true
    },
    "kernelspec": {
      "name": "python3",
      "display_name": "Python 3"
    },
    "language_info": {
      "name": "python"
    }
  },
  "cells": [
    {
      "cell_type": "markdown",
      "metadata": {
        "id": "view-in-github",
        "colab_type": "text"
      },
      "source": [
        "<a href=\"https://colab.research.google.com/github/phannguyengiangan/Machine_Learning/blob/Lab5/Lab_5_20130332_PhanNguyenGiaNgan.ipynb\" target=\"_parent\"><img src=\"https://colab.research.google.com/assets/colab-badge.svg\" alt=\"Open In Colab\"/></a>"
      ]
    },
    {
      "cell_type": "markdown",
      "source": [
        "# This lab is to deal with **SVM** to classification tasks and compare its performance with other competitive algorithms. In general, **SVM** is one of the most popular and widely used supervised machine learning algorithms.\n",
        "\n",
        "*   **Deadline: 23:59, 17/03/2023**\n",
        "\n"
      ],
      "metadata": {
        "id": "LMzehe0sy5wr"
      }
    },
    {
      "cell_type": "markdown",
      "source": [
        "# Import libraries"
      ],
      "metadata": {
        "id": "H4nJmxp9zGX4"
      }
    },
    {
      "cell_type": "code",
      "source": [
        "#code\n",
        "from google.colab import drive\n",
        "drive.mount('/content/gdrive')\n",
        "%cd '/content/gdrive/MyDrive/ML'"
      ],
      "metadata": {
        "colab": {
          "base_uri": "https://localhost:8080/"
        },
        "id": "eLuy8RrVFwrG",
        "outputId": "25f7ed59-f45a-479e-f3d9-3c95da9590f5"
      },
      "execution_count": 31,
      "outputs": [
        {
          "output_type": "stream",
          "name": "stdout",
          "text": [
            "Mounted at /content/gdrive\n",
            "/content/gdrive/MyDrive/ML\n"
          ]
        }
      ]
    },
    {
      "cell_type": "code",
      "execution_count": 2,
      "metadata": {
        "id": "DoVWQ8AEyc-C"
      },
      "outputs": [],
      "source": [
        "# code\n",
        "import numpy as np\n",
        "import pandas as pd\n",
        "import matplotlib.pyplot as plt\n",
        "from sklearn.impute import SimpleImputer\n",
        "from sklearn import svm\n"
      ]
    },
    {
      "cell_type": "code",
      "source": [
        "from sklearn.metrics import confusion_matrix\n",
        "from sklearn.metrics import accuracy_score\n",
        "from sklearn.linear_model import LogisticRegression\n",
        "from sklearn.model_selection import train_test_split\n",
        "from sklearn.metrics import precision_score\n",
        "from sklearn.metrics import recall_score\n",
        "from sklearn.metrics import f1_score\n",
        "from sklearn.metrics import confusion_matrix\n",
        "from sklearn.metrics import ConfusionMatrixDisplay\n",
        "from sklearn.neighbors import KNeighborsClassifier\n",
        "from sklearn import tree\n",
        "from sklearn.tree import DecisionTreeClassifier\n",
        "from prettytable import PrettyTable"
      ],
      "metadata": {
        "id": "JZArA3gq7WCf"
      },
      "execution_count": 3,
      "outputs": []
    },
    {
      "cell_type": "markdown",
      "source": [
        "#Task 1. \n",
        "For breast cancer dataset (https://tinyurl.com/3vme8hr3) which could be loaded from datasets in sklearn as follows:\n",
        "\n",
        "```\n",
        "#Import scikit-learn dataset library\n",
        "from sklearn import datasets\n",
        "\n",
        "#Load dataset\n",
        "cancer = datasets.load_breast_cancer()\n",
        "```\n",
        "\n",
        "*   1.1.\tApply SVM algorithm to above dataset using linear kernel.\n",
        "*   1.2.\tCompare the obtained results with other competitive algorithms (Logistic Regression, Decision Tree, kNN) based on metrics: accuracy, precision, recall, f1 measures.\n",
        "\n"
      ],
      "metadata": {
        "id": "kNv07ARGzOUm"
      }
    },
    {
      "cell_type": "code",
      "source": [
        "# code\n",
        "# Import scikit-learn dataset library\n",
        "from sklearn import datasets\n",
        "\n",
        "# Load dataset\n",
        "cancer = datasets.load_breast_cancer()"
      ],
      "metadata": {
        "id": "sOsg77IBzEyo"
      },
      "execution_count": 43,
      "outputs": []
    },
    {
      "cell_type": "code",
      "source": [
        "X= cancer['data']\n",
        "Y= cancer['target']\n",
        "X_train, X_test, y_train, y_test = train_test_split(X, Y, test_size=0.3, train_size=0.7,  random_state = 1)\n",
        "clf = svm.SVC(kernel='linear')\n",
        "#TRain the model using the training sets\n",
        "clf.fit(X_train, y_train)\n",
        "#Predict the respnse for test dataset\n",
        "y_pred = clf.predict(X_test)\n",
        "kncm = round(accuracy_score(y_test,y_pred),3)\n",
        "knps = round(precision_score(y_test, y_pred),3)\n",
        "knrs = round(recall_score(y_test, y_pred),3)\n",
        "knfs = round(f1_score(y_test, y_pred),3)\n",
        "print (\"Confusion Matrix : \\n\", confusion_matrix(y_test, y_pred))\n",
        "print (\"Accuracy : \", accuracy_score(y_test, y_pred))\n",
        "print (\"Precison : \", precision_score(y_test, y_pred))\n",
        "print (\"Recall :\", recall_score(y_test, y_pred))\n",
        "print (\"F1 : \", f1_score(y_test, y_pred))"
      ],
      "metadata": {
        "colab": {
          "base_uri": "https://localhost:8080/"
        },
        "id": "MsALV5py8weL",
        "outputId": "6a661222-a0a0-47e1-9c03-d6a13fcfe407"
      },
      "execution_count": 42,
      "outputs": [
        {
          "output_type": "stream",
          "name": "stdout",
          "text": [
            "Confusion Matrix : \n",
            " [[ 57   6]\n",
            " [  2 106]]\n",
            "Accuracy :  0.9532163742690059\n",
            "Precison :  0.9464285714285714\n",
            "Recall : 0.9814814814814815\n",
            "F1 :  0.9636363636363636\n"
          ]
        }
      ]
    },
    {
      "cell_type": "code",
      "source": [
        "classifier = LogisticRegression(random_state = 0)\n",
        "classifier.fit(X_train, y_train)\n",
        "y_pred = classifier.predict(X_test)\n",
        "y_pred = clf.predict(X_test)\n",
        "lras = round(accuracy_score(y_test, y_pred),3)\n",
        "lrps = round(precision_score(y_test, y_pred),3)\n",
        "lrrs = round(recall_score(y_test, y_pred),3)\n",
        "lrfs = round(f1_score(y_test, y_pred),3)\n",
        "print (\"Confusion Matrix : \\n\", confusion_matrix(y_test, y_pred))\n",
        "print (\"Accuracy :\", accuracy_score(y_test, y_pred))\n",
        "print (\"Precision :\", precision_score(y_test, y_pred, average='micro'))\n",
        "print (\"Recall :\", recall_score(y_test, y_pred, average = 'micro'))\n",
        "print (\"F1 :\", f1_score(y_test, y_pred, average='micro'))"
      ],
      "metadata": {
        "colab": {
          "base_uri": "https://localhost:8080/"
        },
        "id": "XMO6NxIE_1ro",
        "outputId": "7064fc6c-7897-4498-a482-14d7e750db0a"
      },
      "execution_count": 44,
      "outputs": [
        {
          "output_type": "stream",
          "name": "stdout",
          "text": [
            "Confusion Matrix : \n",
            " [[ 57   6]\n",
            " [  2 106]]\n",
            "Accuracy : 0.9532163742690059\n",
            "Precision : 0.9532163742690059\n",
            "Recall : 0.9532163742690059\n",
            "F1 : 0.9532163742690059\n"
          ]
        },
        {
          "output_type": "stream",
          "name": "stderr",
          "text": [
            "/usr/local/lib/python3.9/dist-packages/sklearn/linear_model/_logistic.py:458: ConvergenceWarning: lbfgs failed to converge (status=1):\n",
            "STOP: TOTAL NO. of ITERATIONS REACHED LIMIT.\n",
            "\n",
            "Increase the number of iterations (max_iter) or scale the data as shown in:\n",
            "    https://scikit-learn.org/stable/modules/preprocessing.html\n",
            "Please also refer to the documentation for alternative solver options:\n",
            "    https://scikit-learn.org/stable/modules/linear_model.html#logistic-regression\n",
            "  n_iter_i = _check_optimize_result(\n"
          ]
        }
      ]
    },
    {
      "cell_type": "code",
      "source": [
        "dtree = DecisionTreeClassifier()\n",
        "dtree = dtree.fit(X_train, y_train) \n",
        "y_pred = dtree.predict(X_test)\n",
        "y_pred = clf.predict(X_test)\n",
        "dtcm=confusion_matrix(y_test, y_pred)\n",
        "dtas=round(accuracy_score(y_test, y_pred),3)\n",
        "dtps=round(precision_score(y_test, y_pred),3)\n",
        "dtrs=round(recall_score(y_test, y_pred),3)\n",
        "dtfs=round(f1_score(y_test, y_pred),3)\n",
        "print (\"Confusion Matrix : \\n\", confusion_matrix(y_test, y_pred))\n",
        "print (\"Accuracy : \", accuracy_score(y_test, y_pred))\n",
        "print (\"Precision : \", precision_score(y_test, y_pred, average='micro'))\n",
        "print (\"Recall : \", recall_score(y_test, y_pred, average='micro'))\n",
        "print (\"F1 : \", f1_score(y_test, y_pred, average='micro'))"
      ],
      "metadata": {
        "colab": {
          "base_uri": "https://localhost:8080/"
        },
        "id": "TkyqspFBCOA_",
        "outputId": "bd087a60-909e-4a41-b745-bfaa6cc284e1"
      },
      "execution_count": 45,
      "outputs": [
        {
          "output_type": "stream",
          "name": "stdout",
          "text": [
            "Confusion Matrix : \n",
            " [[ 57   6]\n",
            " [  2 106]]\n",
            "Accuracy :  0.9532163742690059\n",
            "Precision :  0.9532163742690059\n",
            "Recall :  0.9532163742690059\n",
            "F1 :  0.9532163742690059\n"
          ]
        }
      ]
    },
    {
      "cell_type": "code",
      "source": [
        "cancer = KNeighborsClassifier()\n",
        "X_train, X_test, y_train, y_test = train_test_split(X, Y, test_size=0.3, train_size=0.7,  random_state = 1)\n",
        "cancer.fit(X_train,y_train)\n",
        "y_pred = cancer.predict(X_test) \n",
        "knncm=confusion_matrix(y_test, y_pred)\n",
        "knnas=round(accuracy_score(y_test, y_pred),3)\n",
        "knnps=round(precision_score(y_test, y_pred),3)\n",
        "knnrs=round(recall_score(y_test, y_pred),3)\n",
        "knnfs=round(f1_score(y_test, y_pred),3)\n",
        "print (\"Confusion Matrix : \\n\", confusion_matrix(y_test, y_pred))\n",
        "print (\"Accuracy : \", accuracy_score(y_test, y_pred))\n",
        "print (\"Precision : \", precision_score(y_test, y_pred, average='micro'))\n",
        "print (\"Recall : \", recall_score(y_test, y_pred, average='micro'))\n",
        "print (\"F1 : \", f1_score(y_test, y_pred, average='micro'))"
      ],
      "metadata": {
        "colab": {
          "base_uri": "https://localhost:8080/"
        },
        "id": "9oefmoeuCVFM",
        "outputId": "1bfd0578-1c2c-412a-bc1c-5bf8aa977a5c"
      },
      "execution_count": 47,
      "outputs": [
        {
          "output_type": "stream",
          "name": "stdout",
          "text": [
            "Confusion Matrix : \n",
            " [[ 56   7]\n",
            " [  5 103]]\n",
            "Accuracy :  0.9298245614035088\n",
            "Precision :  0.9298245614035088\n",
            "Recall :  0.9298245614035088\n",
            "F1 :  0.9298245614035088\n"
          ]
        }
      ]
    },
    {
      "cell_type": "code",
      "source": [
        "t = PrettyTable(['Classifier Algorithm', 'Accuracy', 'Precision','Recall', 'F1'])\n",
        "t.add_row(['SVM',kncm,knps,knrs,knfs])\n",
        "t.add_row(['kNN', knnas, knnps, knnrs, knnfs])\n",
        "t.add_row(['DecisionTree', dtas,dtps,dtrs,dtfs])\n",
        "t.add_row(['LogisticRegression',lras,lrps,lrrs,lrfs])\n",
        "print(t)"
      ],
      "metadata": {
        "colab": {
          "base_uri": "https://localhost:8080/"
        },
        "id": "kB_TmqLNCb4O",
        "outputId": "2b6fff7c-45ac-428b-85a5-6916485fd3ae"
      },
      "execution_count": 48,
      "outputs": [
        {
          "output_type": "stream",
          "name": "stdout",
          "text": [
            "+----------------------+----------+-----------+--------+-------+\n",
            "| Classifier Algorithm | Accuracy | Precision | Recall |   F1  |\n",
            "+----------------------+----------+-----------+--------+-------+\n",
            "|         SVM          |  0.953   |   0.946   | 0.981  | 0.964 |\n",
            "|         kNN          |   0.93   |   0.936   | 0.954  | 0.945 |\n",
            "|     DecisionTree     |  0.953   |   0.946   | 0.981  | 0.964 |\n",
            "|  LogisticRegression  |  0.953   |   0.946   | 0.981  | 0.964 |\n",
            "+----------------------+----------+-----------+--------+-------+\n"
          ]
        }
      ]
    },
    {
      "cell_type": "markdown",
      "source": [
        "#Task 2. \n",
        "\n",
        "*   1.1.\tPerform SVM algorithm to **Iris dataset** using **linear kernel**.\n",
        "*   1.2.\tCompare the obtained results in 1.1 with SVM using other kernels (**Polynomial Kernel, Gaussian Kernel, Sigmoid Kernel, Radial Basis Function Kernel**). Some metrics could be used: accuracy, precision, recall, f1 measures\n",
        "\n",
        "\n",
        "\n"
      ],
      "metadata": {
        "id": "S43IoUT-0OQq"
      }
    },
    {
      "cell_type": "code",
      "source": [
        "# code\n",
        "data4= datasets.load_iris()"
      ],
      "metadata": {
        "id": "_xhPpF5b033h"
      },
      "execution_count": 17,
      "outputs": []
    },
    {
      "cell_type": "code",
      "source": [
        "X= data4['data']\n",
        "Y= data4['target']\n",
        "X_train, X_test, y_train, y_test = train_test_split(X, Y, test_size=0.3, train_size=0.7,  random_state = 1)\n",
        "clf = svm.SVC(kernel='poly')\n",
        "#Train the model using the training sets\n",
        "clf.fit(X_train, y_train)\n",
        "#Predict the response for test dataset\n",
        "y_pred = clf.predict(X_test)\n",
        "plcm=confusion_matrix(y_test, y_pred)\n",
        "plas=round(accuracy_score(y_test, y_pred),2)\n",
        "plps=round(precision_score(y_test, y_pred, average='micro'),2)\n",
        "plrs=round(recall_score(y_test, y_pred, average='micro'),2)\n",
        "plfs=round(f1_score(y_test, y_pred, average='micro'),2)\n",
        "print (\"Confusion Matrix : \\n\", confusion_matrix(y_test, y_pred))\n",
        "print (\"Accuracy : \", accuracy_score(y_test, y_pred))\n",
        "print (\"Precision : \", precision_score(y_test, y_pred, average='micro'))\n",
        "print (\"Recall : \", recall_score(y_test, y_pred, average='micro'))\n",
        "print (\"F1 : \", f1_score(y_test, y_pred, average='micro'))"
      ],
      "metadata": {
        "colab": {
          "base_uri": "https://localhost:8080/"
        },
        "id": "WwNAUPviEMOp",
        "outputId": "779296cd-9e7c-4ffe-8578-ac07a32f0834"
      },
      "execution_count": 18,
      "outputs": [
        {
          "output_type": "stream",
          "name": "stdout",
          "text": [
            "Confusion Matrix : \n",
            " [[14  0  0]\n",
            " [ 0 17  1]\n",
            " [ 0  0 13]]\n",
            "Accuracy :  0.9777777777777777\n",
            "Precision :  0.9777777777777777\n",
            "Recall :  0.9777777777777777\n",
            "F1 :  0.9777777777777777\n"
          ]
        }
      ]
    },
    {
      "cell_type": "code",
      "source": [
        "clf = svm.SVC(kernel='rbf')\n",
        "#Train the model using the training sets\n",
        "clf.fit(X_train, y_train)\n",
        "#Predict the response for test dataset\n",
        "y_pred = clf.predict(X_test)\n",
        "rbcm=confusion_matrix(y_test, y_pred)\n",
        "rbas=round(accuracy_score(y_test, y_pred),2)\n",
        "rbps=round(precision_score(y_test, y_pred, average='micro'),2)\n",
        "rbrs=round(recall_score(y_test, y_pred, average='micro'),2)\n",
        "rbfs=round(f1_score(y_test, y_pred, average='micro'),2)\n",
        "print (\"Confusion Matrix : \\n\", confusion_matrix(y_test, y_pred))\n",
        "print (\"Accuracy : \", accuracy_score(y_test, y_pred))\n",
        "print (\"Precision : \", precision_score(y_test, y_pred, average='micro'))\n",
        "print (\"Recall : \", recall_score(y_test, y_pred, average='micro'))\n",
        "print (\"F1 : \", f1_score(y_test, y_pred, average='micro'))\n",
        "     "
      ],
      "metadata": {
        "colab": {
          "base_uri": "https://localhost:8080/"
        },
        "id": "mgN5ASkvEQJh",
        "outputId": "52de782b-7c81-4536-80ca-32616d5a892d"
      },
      "execution_count": 19,
      "outputs": [
        {
          "output_type": "stream",
          "name": "stdout",
          "text": [
            "Confusion Matrix : \n",
            " [[14  0  0]\n",
            " [ 0 17  1]\n",
            " [ 0  0 13]]\n",
            "Accuracy :  0.9777777777777777\n",
            "Precision :  0.9777777777777777\n",
            "Recall :  0.9777777777777777\n",
            "F1 :  0.9777777777777777\n"
          ]
        }
      ]
    },
    {
      "cell_type": "code",
      "source": [
        "clf = svm.SVC(kernel='sigmoid')\n",
        "#Train the model using the training sets\n",
        "clf.fit(X_train, y_train)\n",
        "#Predict the response for test dataset\n",
        "y_pred = clf.predict(X_test)\n",
        "sicm=confusion_matrix(y_test, y_pred)\n",
        "sias=round(accuracy_score(y_test, y_pred),2)\n",
        "sips=round(precision_score(y_test, y_pred, average='micro'),2)\n",
        "sirs=round(recall_score(y_test, y_pred, average='micro'),2)\n",
        "sifs=round(f1_score(y_test, y_pred, average='micro'),2)\n",
        "print (\"Confusion Matrix : \\n\", confusion_matrix(y_test, y_pred))\n",
        "print (\"Accuracy : \", accuracy_score(y_test, y_pred))\n",
        "print (\"Precision : \", precision_score(y_test, y_pred, average='micro'))\n",
        "print (\"Recall : \", recall_score(y_test, y_pred, average='micro'))\n",
        "print (\"F1 : \", f1_score(y_test, y_pred, average='micro'))\n",
        "     "
      ],
      "metadata": {
        "colab": {
          "base_uri": "https://localhost:8080/"
        },
        "id": "liWkBK4gEUXh",
        "outputId": "ffe57908-2eed-4403-edc8-97ab296b23d7"
      },
      "execution_count": 20,
      "outputs": [
        {
          "output_type": "stream",
          "name": "stdout",
          "text": [
            "Confusion Matrix : \n",
            " [[ 0  0 14]\n",
            " [ 0  0 18]\n",
            " [ 0  0 13]]\n",
            "Accuracy :  0.28888888888888886\n",
            "Precision :  0.28888888888888886\n",
            "Recall :  0.28888888888888886\n",
            "F1 :  0.28888888888888886\n"
          ]
        }
      ]
    },
    {
      "cell_type": "code",
      "source": [
        "t= PrettyTable(['Liner Kernel', 'Accuracy','Precision','Recall','F1'])\n",
        "t.add_row(['Sigmoid Kernel',sias,sips,sirs,sifs])\n",
        "t.add_row(['Radial Basis',rbas,rbps,rbrs,rbfs])\n",
        "t.add_row(['Polynomial Kernel',plas,plps,plrs,plfs])\n",
        "print(t)"
      ],
      "metadata": {
        "colab": {
          "base_uri": "https://localhost:8080/"
        },
        "id": "2v2srz8tEYtC",
        "outputId": "ed7bd874-a753-4cb9-dac0-45b87b8935e7"
      },
      "execution_count": 21,
      "outputs": [
        {
          "output_type": "stream",
          "name": "stdout",
          "text": [
            "+-------------------+----------+-----------+--------+------+\n",
            "|    Liner Kernel   | Accuracy | Precision | Recall |  F1  |\n",
            "+-------------------+----------+-----------+--------+------+\n",
            "|   Sigmoid Kernel  |   0.29   |    0.29   |  0.29  | 0.29 |\n",
            "|    Radial Basis   |   0.98   |    0.98   |  0.98  | 0.98 |\n",
            "| Polynomial Kernel |   0.98   |    0.98   |  0.98  | 0.98 |\n",
            "+-------------------+----------+-----------+--------+------+\n"
          ]
        }
      ]
    },
    {
      "cell_type": "markdown",
      "source": [
        "#Task 3. \n",
        "Compare the performance of selected classification algorithms (Decision Tree, kNN, Logistic Regression) and SVM (using different kernels) with mnist dataset based on accuracy, precision, recall, f1 measures.\n"
      ],
      "metadata": {
        "id": "b52OPWPD2afi"
      }
    },
    {
      "cell_type": "code",
      "source": [
        "from sklearn import datasets\n",
        "# load the MNIST digits dataset\n",
        "mnist = datasets.load_digits()"
      ],
      "metadata": {
        "id": "pLgZacysEfq9"
      },
      "execution_count": 22,
      "outputs": []
    },
    {
      "cell_type": "markdown",
      "source": [
        "SVM Sigmoid Kernel"
      ],
      "metadata": {
        "id": "vkVosMv8Ei7u"
      }
    },
    {
      "cell_type": "code",
      "source": [
        "X= mnist['data']\n",
        "Y= mnist['target']\n",
        "X_train, X_test, y_train, y_test = train_test_split(X, Y, test_size=0.3, train_size=0.7,  random_state = 1)\n",
        "clf = svm.SVC(kernel='sigmoid')\n",
        "#Train the model using the training sets\n",
        "clf.fit(X_train, y_train)\n",
        "#Predict the response for test dataset\n",
        "y_pred = clf.predict(X_test)\n",
        "sicm=confusion_matrix(y_test, y_pred)\n",
        "sias=round(accuracy_score(y_test, y_pred),2)\n",
        "sips=round(precision_score(y_test, y_pred, average='micro'),2)\n",
        "sirs=round(recall_score(y_test, y_pred, average='micro'),2)\n",
        "sifs=round(f1_score(y_test, y_pred, average='micro'),2)\n",
        "print (\"Confusion Matrix : \\n\", confusion_matrix(y_test, y_pred))\n",
        "print (\"Accuracy : \", accuracy_score(y_test, y_pred))\n",
        "print (\"Precision : \", precision_score(y_test, y_pred, average='micro'))\n",
        "print (\"Recall : \", recall_score(y_test, y_pred, average='micro'))\n",
        "print (\"F1 : \", f1_score(y_test, y_pred, average='micro'))\n",
        "     "
      ],
      "metadata": {
        "colab": {
          "base_uri": "https://localhost:8080/"
        },
        "id": "IbIh9PIFEk76",
        "outputId": "73f32636-4338-4973-cd55-9265a62a6e53"
      },
      "execution_count": 23,
      "outputs": [
        {
          "output_type": "stream",
          "name": "stdout",
          "text": [
            "Confusion Matrix : \n",
            " [[55  0  0  0  4  0  0  0  0  0]\n",
            " [ 0 40  0  0  1  0  1  4  1  2]\n",
            " [ 0  2 46  0  0  0  0  0  1  0]\n",
            " [ 0  2  1 57  0  0  0  1  3  0]\n",
            " [ 2  3  0  0 55  0  1  0  0  0]\n",
            " [ 0  1  0  0  0 45  0  0  0  1]\n",
            " [ 0  0  0  0  1  0 50  0  0  0]\n",
            " [ 0  0  0  0  0  1  0 55  0  1]\n",
            " [ 0  2  1  1  0  1  0  0 35  6]\n",
            " [ 0  1  0  0  0  2  0  3  0 51]]\n",
            "Accuracy :  0.9055555555555556\n",
            "Precision :  0.9055555555555556\n",
            "Recall :  0.9055555555555556\n",
            "F1 :  0.9055555555555556\n"
          ]
        }
      ]
    },
    {
      "cell_type": "code",
      "source": [
        "clf = svm.SVC(kernel='rbf')\n",
        "#Train the model using the training sets\n",
        "clf.fit(X_train, y_train)\n",
        "#Predict the response for test dataset\n",
        "y_pred = clf.predict(X_test)\n",
        "rbcm=confusion_matrix(y_test, y_pred)\n",
        "rbas=round(accuracy_score(y_test, y_pred),2)\n",
        "rbps=round(precision_score(y_test, y_pred, average='micro'),2)\n",
        "rbrs=round(recall_score(y_test, y_pred, average='micro'),2)\n",
        "rbfs=round(f1_score(y_test, y_pred, average='micro'),2)\n",
        "print (\"Confusion Matrix : \\n\", confusion_matrix(y_test, y_pred))\n",
        "print (\"Accuracy : \", accuracy_score(y_test, y_pred))\n",
        "print (\"Precision : \", precision_score(y_test, y_pred, average='micro'))\n",
        "print (\"Recall : \", recall_score(y_test, y_pred, average='micro'))\n",
        "print (\"F1 : \", f1_score(y_test, y_pred, average='micro'))\n",
        "     "
      ],
      "metadata": {
        "colab": {
          "base_uri": "https://localhost:8080/"
        },
        "id": "b6LkZ2XVEpVJ",
        "outputId": "3ee71769-016a-418f-cb80-e2fea42d13d0"
      },
      "execution_count": 24,
      "outputs": [
        {
          "output_type": "stream",
          "name": "stdout",
          "text": [
            "Confusion Matrix : \n",
            " [[58  0  0  0  1  0  0  0  0  0]\n",
            " [ 0 49  0  0  0  0  0  0  0  0]\n",
            " [ 0  0 49  0  0  0  0  0  0  0]\n",
            " [ 0  0  1 63  0  0  0  0  0  0]\n",
            " [ 0  0  0  0 61  0  0  0  0  0]\n",
            " [ 0  0  0  0  0 46  0  0  0  1]\n",
            " [ 0  0  0  0  0  0 51  0  0  0]\n",
            " [ 0  0  0  0  0  0  0 56  0  1]\n",
            " [ 0  1  0  0  0  0  0  0 44  1]\n",
            " [ 0  0  0  0  0  2  0  0  0 55]]\n",
            "Accuracy :  0.9851851851851852\n",
            "Precision :  0.9851851851851852\n",
            "Recall :  0.9851851851851852\n",
            "F1 :  0.9851851851851852\n"
          ]
        }
      ]
    },
    {
      "cell_type": "code",
      "source": [
        "clf = svm.SVC(kernel='poly')\n",
        "#Train the model using the training sets\n",
        "clf.fit(X_train, y_train)\n",
        "#Predict the response for test dataset\n",
        "y_pred = clf.predict(X_test)\n",
        "plcm=confusion_matrix(y_test, y_pred)\n",
        "plas=round(accuracy_score(y_test, y_pred),2)\n",
        "plps=round(precision_score(y_test, y_pred, average='micro'),2)\n",
        "plrs=round(recall_score(y_test, y_pred, average='micro'),2)\n",
        "plfs=round(f1_score(y_test, y_pred, average='micro'),2)\n",
        "print (\"Confusion Matrix : \\n\", confusion_matrix(y_test, y_pred))\n",
        "print (\"Accuracy : \", accuracy_score(y_test, y_pred))\n",
        "print (\"Precision : \", precision_score(y_test, y_pred, average='micro'))\n",
        "print (\"Recall : \", recall_score(y_test, y_pred, average='micro'))\n",
        "print (\"F1 : \", f1_score(y_test, y_pred, average='micro'))"
      ],
      "metadata": {
        "colab": {
          "base_uri": "https://localhost:8080/"
        },
        "id": "pp2OegQCEtEh",
        "outputId": "c622f6ba-d4a5-4a7c-ef98-796d880d05da"
      },
      "execution_count": 25,
      "outputs": [
        {
          "output_type": "stream",
          "name": "stdout",
          "text": [
            "Confusion Matrix : \n",
            " [[58  0  0  0  1  0  0  0  0  0]\n",
            " [ 0 49  0  0  0  0  0  0  0  0]\n",
            " [ 0  0 49  0  0  0  0  0  0  0]\n",
            " [ 0  0  1 63  0  0  0  0  0  0]\n",
            " [ 0  0  0  0 61  0  0  0  0  0]\n",
            " [ 0  0  0  0  0 46  0  0  0  1]\n",
            " [ 0  0  0  0  0  0 51  0  0  0]\n",
            " [ 0  0  0  0  0  0  0 56  0  1]\n",
            " [ 0  1  0  0  0  0  0  0 44  1]\n",
            " [ 0  0  0  0  0  2  0  0  0 55]]\n",
            "Accuracy :  0.9851851851851852\n",
            "Precision :  0.9851851851851852\n",
            "Recall :  0.9851851851851852\n",
            "F1 :  0.9851851851851852\n"
          ]
        }
      ]
    },
    {
      "cell_type": "markdown",
      "source": [
        "Decision Tree"
      ],
      "metadata": {
        "id": "oQpXzelVE8Ap"
      }
    },
    {
      "cell_type": "code",
      "source": [
        "dtree = DecisionTreeClassifier()\n",
        "dtree = dtree.fit(X_train, y_train) \n",
        "y_pred = dtree.predict(X_test)\n",
        "y_pred = clf.predict(X_test)\n",
        "dtcm=confusion_matrix(y_test, y_pred)\n",
        "dtas=round(accuracy_score(y_test, y_pred),2)\n",
        "dtps=round(precision_score(y_test, y_pred, average='micro'),2)\n",
        "dtrs=round(recall_score(y_test, y_pred, average='micro'),2)\n",
        "dtfs=round(f1_score(y_test, y_pred, average='micro'),2)\n",
        "print (\"Confusion Matrix : \\n\", confusion_matrix(y_test, y_pred))\n",
        "print (\"Accuracy : \", accuracy_score(y_test, y_pred))\n",
        "print (\"Precision : \", precision_score(y_test, y_pred, average='micro'))\n",
        "print (\"Recall : \", recall_score(y_test, y_pred, average='micro'))\n",
        "print (\"F1 : \", f1_score(y_test, y_pred, average='micro'))"
      ],
      "metadata": {
        "colab": {
          "base_uri": "https://localhost:8080/"
        },
        "id": "cMFJE6QxE2B5",
        "outputId": "9819ccd4-8bff-4f3c-b93d-fb499a55f172"
      },
      "execution_count": 26,
      "outputs": [
        {
          "output_type": "stream",
          "name": "stdout",
          "text": [
            "Confusion Matrix : \n",
            " [[58  0  0  0  1  0  0  0  0  0]\n",
            " [ 0 49  0  0  0  0  0  0  0  0]\n",
            " [ 0  0 49  0  0  0  0  0  0  0]\n",
            " [ 0  0  1 63  0  0  0  0  0  0]\n",
            " [ 0  0  0  0 61  0  0  0  0  0]\n",
            " [ 0  0  0  0  0 46  0  0  0  1]\n",
            " [ 0  0  0  0  0  0 51  0  0  0]\n",
            " [ 0  0  0  0  0  0  0 56  0  1]\n",
            " [ 0  1  0  0  0  0  0  0 44  1]\n",
            " [ 0  0  0  0  0  2  0  0  0 55]]\n",
            "Accuracy :  0.9851851851851852\n",
            "Precision :  0.9851851851851852\n",
            "Recall :  0.9851851851851852\n",
            "F1 :  0.9851851851851852\n"
          ]
        }
      ]
    },
    {
      "cell_type": "markdown",
      "source": [
        "kNN"
      ],
      "metadata": {
        "id": "xpQFlK8zFGSS"
      }
    },
    {
      "cell_type": "code",
      "source": [
        "cancer = KNeighborsClassifier()\n",
        "X_train, X_test, y_train, y_test = train_test_split(X, Y, test_size=0.3, train_size=0.7,  random_state = 1)\n",
        "cancer.fit(X_train,y_train)\n",
        "y_pred = cancer.predict(X_test) \n",
        "knncm=confusion_matrix(y_test, y_pred)\n",
        "knnas=round(accuracy_score(y_test, y_pred),2)\n",
        "knnps=round(precision_score(y_test, y_pred, average='micro'),2)\n",
        "knnrs=round(recall_score(y_test, y_pred, average='micro'),2)\n",
        "knnfs=round(f1_score(y_test, y_pred, average='micro'),2)\n",
        "print (\"Confusion Matrix : \\n\", confusion_matrix(y_test, y_pred))\n",
        "print (\"Accuracy : \", accuracy_score(y_test, y_pred))\n",
        "print (\"Precision : \", precision_score(y_test, y_pred, average='micro'))\n",
        "print (\"Recall : \", recall_score(y_test, y_pred, average='micro'))\n",
        "print (\"F1 : \", f1_score(y_test, y_pred, average='micro'))"
      ],
      "metadata": {
        "colab": {
          "base_uri": "https://localhost:8080/"
        },
        "id": "RyaoWy2gFEFZ",
        "outputId": "06344d3a-5764-4a5f-8924-bd68b43559fa"
      },
      "execution_count": 27,
      "outputs": [
        {
          "output_type": "stream",
          "name": "stdout",
          "text": [
            "Confusion Matrix : \n",
            " [[58  0  0  0  1  0  0  0  0  0]\n",
            " [ 0 49  0  0  0  0  0  0  0  0]\n",
            " [ 0  0 48  0  0  0  0  1  0  0]\n",
            " [ 0  0  0 64  0  0  0  0  0  0]\n",
            " [ 0  0  0  0 61  0  0  0  0  0]\n",
            " [ 0  0  0  0  0 46  0  0  0  1]\n",
            " [ 0  0  0  0  0  0 51  0  0  0]\n",
            " [ 0  0  0  0  0  0  0 57  0  0]\n",
            " [ 0  1  0  0  0  0  0  0 45  0]\n",
            " [ 0  0  0  0  0  1  0  0  0 56]]\n",
            "Accuracy :  0.9907407407407407\n",
            "Precision :  0.9907407407407407\n",
            "Recall :  0.9907407407407407\n",
            "F1 :  0.9907407407407407\n"
          ]
        }
      ]
    },
    {
      "cell_type": "markdown",
      "source": [
        "LogisticRegression"
      ],
      "metadata": {
        "id": "E1jeINJ6FLWM"
      }
    },
    {
      "cell_type": "code",
      "source": [
        "classifier = LogisticRegression(random_state = 0) \n",
        "classifier.fit(X_train, y_train) \n",
        "y_pred = classifier.predict(X_test)\n",
        "y_pred = clf.predict(X_test)\n",
        "lras=round(accuracy_score(y_test, y_pred),2)\n",
        "lrps=round(precision_score(y_test, y_pred, average='micro'),2)\n",
        "lrrs=round(recall_score(y_test, y_pred, average='micro'),2)\n",
        "lrfs=round(f1_score(y_test, y_pred, average='micro'),2)\n",
        "print (\"Confusion Matrix : \\n\", confusion_matrix(y_test, y_pred))\n",
        "print (\"Accuracy : \", accuracy_score(y_test, y_pred))\n",
        "print (\"Precision : \", precision_score(y_test, y_pred, average='micro'))\n",
        "print (\"Recall : \", recall_score(y_test, y_pred, average='micro'))\n",
        "print (\"F1 : \", f1_score(y_test, y_pred, average='micro'))"
      ],
      "metadata": {
        "colab": {
          "base_uri": "https://localhost:8080/"
        },
        "id": "3yuELPTwFPci",
        "outputId": "96733afd-7a4a-4849-ee9c-830c55604287"
      },
      "execution_count": 28,
      "outputs": [
        {
          "output_type": "stream",
          "name": "stdout",
          "text": [
            "Confusion Matrix : \n",
            " [[58  0  0  0  1  0  0  0  0  0]\n",
            " [ 0 49  0  0  0  0  0  0  0  0]\n",
            " [ 0  0 49  0  0  0  0  0  0  0]\n",
            " [ 0  0  1 63  0  0  0  0  0  0]\n",
            " [ 0  0  0  0 61  0  0  0  0  0]\n",
            " [ 0  0  0  0  0 46  0  0  0  1]\n",
            " [ 0  0  0  0  0  0 51  0  0  0]\n",
            " [ 0  0  0  0  0  0  0 56  0  1]\n",
            " [ 0  1  0  0  0  0  0  0 44  1]\n",
            " [ 0  0  0  0  0  2  0  0  0 55]]\n",
            "Accuracy :  0.9851851851851852\n",
            "Precision :  0.9851851851851852\n",
            "Recall :  0.9851851851851852\n",
            "F1 :  0.9851851851851852\n"
          ]
        },
        {
          "output_type": "stream",
          "name": "stderr",
          "text": [
            "/usr/local/lib/python3.9/dist-packages/sklearn/linear_model/_logistic.py:458: ConvergenceWarning: lbfgs failed to converge (status=1):\n",
            "STOP: TOTAL NO. of ITERATIONS REACHED LIMIT.\n",
            "\n",
            "Increase the number of iterations (max_iter) or scale the data as shown in:\n",
            "    https://scikit-learn.org/stable/modules/preprocessing.html\n",
            "Please also refer to the documentation for alternative solver options:\n",
            "    https://scikit-learn.org/stable/modules/linear_model.html#logistic-regression\n",
            "  n_iter_i = _check_optimize_result(\n"
          ]
        }
      ]
    },
    {
      "cell_type": "code",
      "source": [
        "t= PrettyTable(['Liner Kernel', 'Accuracy','Precision','Recall','F1'])\n",
        "t.add_row(['SVM Sigmoid Kernel',sias,sips,sirs,sifs])\n",
        "t.add_row(['SVM Radial Basis',rbas,rbps,rbrs,rbfs])\n",
        "t.add_row(['SVM Polynomial Kernel',plas,plps,plrs,plfs])\n",
        "t.add_row(['kNN',knnas,knnps,knnrs,knnfs])\n",
        "t.add_row(['DecisionTree',dtas,dtps,dtrs,dtfs])\n",
        "t.add_row(['LogisticRegression',lras,lrps,lrrs,lrfs])\n",
        "print(t)"
      ],
      "metadata": {
        "colab": {
          "base_uri": "https://localhost:8080/"
        },
        "id": "zveFSmp-FSpV",
        "outputId": "43209025-ba6c-4d54-f1d0-2ab2f1f3fdcb"
      },
      "execution_count": 29,
      "outputs": [
        {
          "output_type": "stream",
          "name": "stdout",
          "text": [
            "+-----------------------+----------+-----------+--------+------+\n",
            "|      Liner Kernel     | Accuracy | Precision | Recall |  F1  |\n",
            "+-----------------------+----------+-----------+--------+------+\n",
            "|   SVM Sigmoid Kernel  |   0.91   |    0.91   |  0.91  | 0.91 |\n",
            "|    SVM Radial Basis   |   0.99   |    0.99   |  0.99  | 0.99 |\n",
            "| SVM Polynomial Kernel |   0.99   |    0.99   |  0.99  | 0.99 |\n",
            "|          kNN          |   0.99   |    0.99   |  0.99  | 0.99 |\n",
            "|      DecisionTree     |   0.99   |    0.99   |  0.99  | 0.99 |\n",
            "|   LogisticRegression  |   0.99   |    0.99   |  0.99  | 0.99 |\n",
            "+-----------------------+----------+-----------+--------+------+\n"
          ]
        }
      ]
    },
    {
      "cell_type": "markdown",
      "source": [
        "#Task 4. \n",
        "Compare the performance of selected classification algorithms (Decision Tree, kNN, Logistic Regression) and SVM (using different kernels) with **credit card dataset** based on accuracy, precision, recall, f1 measures.\n",
        "\n",
        "*   Give some comments on the obtained results\n",
        "*   Identify issues with dataset, and propose the solutions to these issues\n",
        "\n"
      ],
      "metadata": {
        "id": "Z5pp7_h-aP2u"
      }
    },
    {
      "cell_type": "code",
      "source": [
        "# code\n",
        "data=pd.read_csv('creditcard.csv')\n",
        "X= data.iloc[1:50000, 1:-1]\n",
        "Y= data.iloc[1:50000, -1]\n",
        "X_train, X_test, y_train, y_test = train_test_split(X, Y, test_size=0.3, train_size=0.7,  random_state = 1)"
      ],
      "metadata": {
        "id": "Rw_-8FIf2KxW"
      },
      "execution_count": 32,
      "outputs": []
    },
    {
      "cell_type": "markdown",
      "source": [
        "SVM Sigmoid Kernel"
      ],
      "metadata": {
        "id": "5HSGn2eBF_g9"
      }
    },
    {
      "cell_type": "code",
      "source": [
        "clf = svm.SVC(kernel='sigmoid')\n",
        "#Train the model using the training sets\n",
        "clf.fit(X_train, y_train)\n",
        "#Predict the response for test dataset\n",
        "y_pred = clf.predict(X_test)\n",
        "sicm=confusion_matrix(y_test, y_pred)\n",
        "sias=round(accuracy_score(y_test, y_pred),4)\n",
        "sips=round(precision_score(y_test, y_pred, average='micro'),4)\n",
        "sirs=round(recall_score(y_test, y_pred, average='micro'),4)\n",
        "sifs=round(f1_score(y_test, y_pred, average='micro'),4)\n",
        "print (\"Confusion Matrix : \\n\", confusion_matrix(y_test, y_pred))\n",
        "print (\"Accuracy : \", accuracy_score(y_test, y_pred))\n",
        "print (\"Precision : \", precision_score(y_test, y_pred, average='micro'))\n",
        "print (\"Recall : \", recall_score(y_test, y_pred, average='micro'))\n",
        "print (\"F1 : \", f1_score(y_test, y_pred, average='micro'))"
      ],
      "metadata": {
        "colab": {
          "base_uri": "https://localhost:8080/"
        },
        "id": "b5-3-eQFGDM1",
        "outputId": "7f4008f7-43fc-4844-9d00-557bac2650a1"
      },
      "execution_count": 33,
      "outputs": [
        {
          "output_type": "stream",
          "name": "stdout",
          "text": [
            "Confusion Matrix : \n",
            " [[14945     0]\n",
            " [   55     0]]\n",
            "Accuracy :  0.9963333333333333\n",
            "Precision :  0.9963333333333333\n",
            "Recall :  0.9963333333333333\n",
            "F1 :  0.9963333333333333\n"
          ]
        }
      ]
    },
    {
      "cell_type": "markdown",
      "source": [
        "SVM Radial Basis"
      ],
      "metadata": {
        "id": "cAVaTQTEGFib"
      }
    },
    {
      "cell_type": "code",
      "source": [
        "clf = svm.SVC(kernel='rbf')\n",
        "#Train the model using the training sets\n",
        "clf.fit(X_train, y_train)\n",
        "#Predict the response for test dataset\n",
        "y_pred = clf.predict(X_test)\n",
        "rbcm=confusion_matrix(y_test, y_pred)\n",
        "rbas=round(accuracy_score(y_test, y_pred),4)\n",
        "rbps=round(precision_score(y_test, y_pred, average='micro'),4)\n",
        "rbrs=round(recall_score(y_test, y_pred, average='micro'),4)\n",
        "rbfs=round(f1_score(y_test, y_pred, average='micro'),4)\n",
        "print (\"Confusion Matrix : \\n\", confusion_matrix(y_test, y_pred))\n",
        "print (\"Accuracy : \", accuracy_score(y_test, y_pred))\n",
        "print (\"Precision : \", precision_score(y_test, y_pred, average='micro'))\n",
        "print (\"Recall : \", recall_score(y_test, y_pred, average='micro'))\n",
        "print (\"F1 : \", f1_score(y_test, y_pred, average='micro'))"
      ],
      "metadata": {
        "colab": {
          "base_uri": "https://localhost:8080/"
        },
        "id": "nAP0Tk0mGH-c",
        "outputId": "7907e58c-e949-4dde-9847-8fd9ca015726"
      },
      "execution_count": 34,
      "outputs": [
        {
          "output_type": "stream",
          "name": "stdout",
          "text": [
            "Confusion Matrix : \n",
            " [[14935    10]\n",
            " [   28    27]]\n",
            "Accuracy :  0.9974666666666666\n",
            "Precision :  0.9974666666666666\n",
            "Recall :  0.9974666666666666\n",
            "F1 :  0.9974666666666666\n"
          ]
        }
      ]
    },
    {
      "cell_type": "markdown",
      "source": [
        "SVM Polynomial Kernel"
      ],
      "metadata": {
        "id": "lrMzLUwRGNF-"
      }
    },
    {
      "cell_type": "code",
      "source": [
        "clf = svm.SVC(kernel='poly')\n",
        "#Train the model using the training sets\n",
        "clf.fit(X_train, y_train)\n",
        "#Predict the response for test dataset\n",
        "y_pred = clf.predict(X_test)\n",
        "plcm=confusion_matrix(y_test, y_pred)\n",
        "plas=round(accuracy_score(y_test, y_pred),4)\n",
        "plps=round(precision_score(y_test, y_pred, average='micro'),4)\n",
        "plrs=round(recall_score(y_test, y_pred, average='micro'),4)\n",
        "plfs=round(f1_score(y_test, y_pred, average='micro'),4)\n",
        "print (\"Confusion Matrix : \\n\", confusion_matrix(y_test, y_pred))\n",
        "print (\"Accuracy : \", accuracy_score(y_test, y_pred))\n",
        "print (\"Precision : \", precision_score(y_test, y_pred, average='micro'))\n",
        "print (\"Recall : \", recall_score(y_test, y_pred, average='micro'))\n",
        "print (\"F1 : \", f1_score(y_test, y_pred, average='micro'))"
      ],
      "metadata": {
        "colab": {
          "base_uri": "https://localhost:8080/"
        },
        "id": "yzFFsURJGQGl",
        "outputId": "b0e350b5-ac38-4303-b637-5d23cefa4fe5"
      },
      "execution_count": 35,
      "outputs": [
        {
          "output_type": "stream",
          "name": "stdout",
          "text": [
            "Confusion Matrix : \n",
            " [[14945     0]\n",
            " [   51     4]]\n",
            "Accuracy :  0.9966\n",
            "Precision :  0.9966\n",
            "Recall :  0.9966\n",
            "F1 :  0.9966\n"
          ]
        }
      ]
    },
    {
      "cell_type": "markdown",
      "source": [
        "Decision Tree"
      ],
      "metadata": {
        "id": "zC3X8eMEGl8I"
      }
    },
    {
      "cell_type": "code",
      "source": [
        "dtree = DecisionTreeClassifier()\n",
        "dtree = dtree.fit(X_train, y_train) \n",
        "y_pred = dtree.predict(X_test)\n",
        "y_pred = clf.predict(X_test)\n",
        "dtcm=confusion_matrix(y_test, y_pred)\n",
        "dtas=round(accuracy_score(y_test, y_pred),4)\n",
        "dtps=round(precision_score(y_test, y_pred, average='micro'),4)\n",
        "dtrs=round(recall_score(y_test, y_pred, average='micro'),4)\n",
        "dtfs=round(f1_score(y_test, y_pred, average='micro'),4)\n",
        "print (\"Confusion Matrix : \\n\", confusion_matrix(y_test, y_pred))\n",
        "print (\"Accuracy : \", accuracy_score(y_test, y_pred))\n",
        "print (\"Precision : \", precision_score(y_test, y_pred, average='micro'))\n",
        "print (\"Recall : \", recall_score(y_test, y_pred, average='micro'))\n",
        "print (\"F1 : \", f1_score(y_test, y_pred, average='micro'))"
      ],
      "metadata": {
        "colab": {
          "base_uri": "https://localhost:8080/"
        },
        "id": "fEId-8jnGpIF",
        "outputId": "bae5252e-64d3-48d1-83e5-a89851966c15"
      },
      "execution_count": 36,
      "outputs": [
        {
          "output_type": "stream",
          "name": "stdout",
          "text": [
            "Confusion Matrix : \n",
            " [[14945     0]\n",
            " [   51     4]]\n",
            "Accuracy :  0.9966\n",
            "Precision :  0.9966\n",
            "Recall :  0.9966\n",
            "F1 :  0.9966\n"
          ]
        }
      ]
    },
    {
      "cell_type": "markdown",
      "source": [
        "kNN"
      ],
      "metadata": {
        "id": "boS6CPraGrVV"
      }
    },
    {
      "cell_type": "code",
      "source": [
        "cancer = KNeighborsClassifier()\n",
        "X_train, X_test, y_train, y_test = train_test_split(X, Y, test_size=0.3, train_size=0.7,  random_state = 1)\n",
        "cancer.fit(X_train,y_train)\n",
        "y_pred = cancer.predict(X_test) \n",
        "knncm=confusion_matrix(y_test, y_pred)\n",
        "knnas=round(accuracy_score(y_test, y_pred),4)\n",
        "knnps=round(precision_score(y_test, y_pred, average='micro'),4)\n",
        "knnrs=round(recall_score(y_test, y_pred, average='micro'),4)\n",
        "knnfs=round(f1_score(y_test, y_pred, average='micro'),4)\n",
        "print (\"Confusion Matrix : \\n\", confusion_matrix(y_test, y_pred))\n",
        "print (\"Accuracy : \", accuracy_score(y_test, y_pred))\n",
        "print (\"Precision : \", precision_score(y_test, y_pred, average='micro'))\n",
        "print (\"Recall : \", recall_score(y_test, y_pred, average='micro'))\n",
        "print (\"F1 : \", f1_score(y_test, y_pred, average='micro'))"
      ],
      "metadata": {
        "colab": {
          "base_uri": "https://localhost:8080/"
        },
        "id": "kthd9zoXGuda",
        "outputId": "f25251c3-4178-4a23-c7fa-3d1211cd4a79"
      },
      "execution_count": 37,
      "outputs": [
        {
          "output_type": "stream",
          "name": "stdout",
          "text": [
            "Confusion Matrix : \n",
            " [[14940     5]\n",
            " [   17    38]]\n",
            "Accuracy :  0.9985333333333334\n",
            "Precision :  0.9985333333333334\n",
            "Recall :  0.9985333333333334\n",
            "F1 :  0.9985333333333334\n"
          ]
        }
      ]
    },
    {
      "cell_type": "code",
      "source": [
        "LogisticRegression"
      ],
      "metadata": {
        "id": "5cf8e8GVGx9w"
      },
      "execution_count": null,
      "outputs": []
    },
    {
      "cell_type": "code",
      "source": [
        "classifier = LogisticRegression(random_state = 0) \n",
        "classifier.fit(X_train, y_train) \n",
        "y_pred = classifier.predict(X_test)\n",
        "y_pred = clf.predict(X_test)\n",
        "lras=round(accuracy_score(y_test, y_pred),4)\n",
        "lrps=round(precision_score(y_test, y_pred, average='micro'),4)\n",
        "lrrs=round(recall_score(y_test, y_pred, average='micro'),4)\n",
        "lrfs=round(f1_score(y_test, y_pred, average='micro'),4)\n",
        "print (\"Confusion Matrix : \\n\", confusion_matrix(y_test, y_pred))\n",
        "print (\"Accuracy : \", accuracy_score(y_test, y_pred))\n",
        "print (\"Precision : \", precision_score(y_test, y_pred, average='micro'))\n",
        "print (\"Recall : \", recall_score(y_test, y_pred, average='micro'))\n",
        "print (\"F1 : \", f1_score(y_test, y_pred, average='micro'))"
      ],
      "metadata": {
        "colab": {
          "base_uri": "https://localhost:8080/"
        },
        "id": "QO1xslC7G17J",
        "outputId": "e5522009-8180-4bd1-cd49-448efe726cb2"
      },
      "execution_count": 38,
      "outputs": [
        {
          "output_type": "stream",
          "name": "stderr",
          "text": [
            "/usr/local/lib/python3.9/dist-packages/sklearn/linear_model/_logistic.py:458: ConvergenceWarning: lbfgs failed to converge (status=1):\n",
            "STOP: TOTAL NO. of ITERATIONS REACHED LIMIT.\n",
            "\n",
            "Increase the number of iterations (max_iter) or scale the data as shown in:\n",
            "    https://scikit-learn.org/stable/modules/preprocessing.html\n",
            "Please also refer to the documentation for alternative solver options:\n",
            "    https://scikit-learn.org/stable/modules/linear_model.html#logistic-regression\n",
            "  n_iter_i = _check_optimize_result(\n"
          ]
        },
        {
          "output_type": "stream",
          "name": "stdout",
          "text": [
            "Confusion Matrix : \n",
            " [[14945     0]\n",
            " [   51     4]]\n",
            "Accuracy :  0.9966\n",
            "Precision :  0.9966\n",
            "Recall :  0.9966\n",
            "F1 :  0.9966\n"
          ]
        }
      ]
    },
    {
      "cell_type": "code",
      "source": [
        "t= PrettyTable(['Liner Kernel', 'Accuracy','Precision','Recall','F1'])\n",
        "t.add_row(['SVM Sigmoid Kernel',sias,sips,sirs,sifs])\n",
        "t.add_row(['SVM Radial Basis',rbas,rbps,rbrs,rbfs])\n",
        "t.add_row(['SVM Polynomial Kernel',plas,plps,plrs,plfs])\n",
        "t.add_row(['kNN',knnas,knnps,knnrs,knnfs])\n",
        "t.add_row(['DecisionTree',dtas,dtps,dtrs,dtfs])\n",
        "t.add_row(['LogisticRegression',lras,lrps,lrrs,lrfs])\n",
        "print(t)\n",
        "     "
      ],
      "metadata": {
        "colab": {
          "base_uri": "https://localhost:8080/"
        },
        "id": "x_-T13l2G58M",
        "outputId": "e81e3367-519e-4b0d-9f4f-e2137ba5a69d"
      },
      "execution_count": 39,
      "outputs": [
        {
          "output_type": "stream",
          "name": "stdout",
          "text": [
            "+-----------------------+----------+-----------+--------+--------+\n",
            "|      Liner Kernel     | Accuracy | Precision | Recall |   F1   |\n",
            "+-----------------------+----------+-----------+--------+--------+\n",
            "|   SVM Sigmoid Kernel  |  0.9963  |   0.9963  | 0.9963 | 0.9963 |\n",
            "|    SVM Radial Basis   |  0.9975  |   0.9975  | 0.9975 | 0.9975 |\n",
            "| SVM Polynomial Kernel |  0.9966  |   0.9966  | 0.9966 | 0.9966 |\n",
            "|          kNN          |  0.9985  |   0.9985  | 0.9985 | 0.9985 |\n",
            "|      DecisionTree     |  0.9966  |   0.9966  | 0.9966 | 0.9966 |\n",
            "|   LogisticRegression  |  0.9966  |   0.9966  | 0.9966 | 0.9966 |\n",
            "+-----------------------+----------+-----------+--------+--------+\n"
          ]
        }
      ]
    },
    {
      "cell_type": "markdown",
      "source": [
        "#Finally,\n",
        "Save a copy in your Github. Remember renaming the notebook."
      ],
      "metadata": {
        "id": "Ok7RGkea_b7n"
      }
    }
  ]
}