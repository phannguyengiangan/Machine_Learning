{
  "nbformat": 4,
  "nbformat_minor": 0,
  "metadata": {
    "colab": {
      "provenance": [],
      "include_colab_link": true
    },
    "kernelspec": {
      "name": "python3",
      "display_name": "Python 3"
    },
    "language_info": {
      "name": "python"
    }
  },
  "cells": [
    {
      "cell_type": "markdown",
      "metadata": {
        "id": "view-in-github",
        "colab_type": "text"
      },
      "source": [
        "<a href=\"https://colab.research.google.com/github/phannguyengiangan/Machine_Learning/blob/Lab6/Lab_6_20130332_PhanNguyenGiaNgan.ipynb\" target=\"_parent\"><img src=\"https://colab.research.google.com/assets/colab-badge.svg\" alt=\"Open In Colab\"/></a>"
      ]
    },
    {
      "cell_type": "markdown",
      "source": [
        "# This lab is to deal with classification task using **Random Forests** and **Naïve Bayes** algorithms with/without **Feature Selection**. \n",
        "\n",
        "*   **Deadline: 23:59, 25/03/2023**\n",
        "\n"
      ],
      "metadata": {
        "id": "LMzehe0sy5wr"
      }
    },
    {
      "cell_type": "markdown",
      "source": [
        "# Import libraries"
      ],
      "metadata": {
        "id": "H4nJmxp9zGX4"
      }
    },
    {
      "cell_type": "code",
      "source": [
        "#code\n",
        "from google.colab import drive\n",
        "drive.mount('/content/gdrive')\n",
        "%cd '/content/gdrive/MyDrive/ML'"
      ],
      "metadata": {
        "colab": {
          "base_uri": "https://localhost:8080/"
        },
        "id": "4bkx0KMSSW5y",
        "outputId": "ad21572e-8648-4a4e-b031-c388857e6df0"
      },
      "execution_count": 7,
      "outputs": [
        {
          "output_type": "stream",
          "name": "stdout",
          "text": [
            "Mounted at /content/gdrive\n",
            "/content/gdrive/MyDrive/ML\n"
          ]
        }
      ]
    },
    {
      "cell_type": "code",
      "execution_count": 6,
      "metadata": {
        "id": "DoVWQ8AEyc-C"
      },
      "outputs": [],
      "source": [
        "# code\n",
        "import numpy as np\n",
        "import pandas as pd\n",
        "import matplotlib.pyplot as plt\n",
        "from sklearn.impute import SimpleImputer\n",
        "from sklearn import svm\n"
      ]
    },
    {
      "cell_type": "code",
      "source": [
        "from sklearn.metrics import confusion_matrix \n",
        "from sklearn.metrics import accuracy_score\n",
        "from sklearn.linear_model import LogisticRegression \n",
        "from sklearn.model_selection import train_test_split\n",
        "from sklearn.metrics import precision_score\n",
        "from sklearn.metrics import recall_score\n",
        "from sklearn.metrics import f1_score\n",
        "from sklearn.metrics import confusion_matrix\n",
        "from sklearn.metrics import ConfusionMatrixDisplay\n",
        "from sklearn.neighbors import KNeighborsClassifier\n",
        "from sklearn import tree\n",
        "from sklearn.tree import DecisionTreeClassifier\n",
        "from prettytable import PrettyTable\n",
        "from sklearn.ensemble import RandomForestClassifier\n",
        "from sklearn.naive_bayes import GaussianNB\n",
        "from sklearn.decomposition import PCA\n",
        "from sklearn.feature_selection import SelectKBest\n",
        "from sklearn.feature_selection import f_classif"
      ],
      "metadata": {
        "id": "JDBVpDORRKIk"
      },
      "execution_count": 1,
      "outputs": []
    },
    {
      "cell_type": "markdown",
      "source": [
        "#Task 1. \n",
        "Task 1. Compare the performance of selected classification algorithms including **Random forest**, **NaiveBayes**, and **SVM** with **mnist** dataset based on **accuracy, precision, recall, f1** measures according to **without using selection feature** and **using selection feature**.\n",
        "\n"
      ],
      "metadata": {
        "id": "kNv07ARGzOUm"
      }
    },
    {
      "cell_type": "code",
      "source": [
        "#SVM\n",
        "from sklearn import datasets\n",
        "# load the MNIST digits dataset\n",
        "mnist = datasets.load_digits()\n",
        "\n"
      ],
      "metadata": {
        "id": "sOsg77IBzEyo"
      },
      "execution_count": 2,
      "outputs": []
    },
    {
      "cell_type": "markdown",
      "source": [
        "Random Forest"
      ],
      "metadata": {
        "id": "FJ_kIoeKp-KV"
      }
    },
    {
      "cell_type": "code",
      "source": [
        "clf=RandomForestClassifier(n_estimators=100)\n",
        "X= mnist['data']\n",
        "Y= mnist['target']\n",
        "X_train, X_test, y_train, y_test = train_test_split(X, Y, test_size=0.3, train_size=0.7,  random_state = 1)\n",
        "clf.fit(X_train,y_train)\n",
        "y_pred = clf.predict(X_test)\n",
        "sicm=confusion_matrix(y_test, y_pred)\n",
        "rfas=round(accuracy_score(y_test, y_pred),2)\n",
        "rfps=round(precision_score(y_test, y_pred, average='micro'),2)\n",
        "rfrs=round(recall_score(y_test, y_pred, average='micro'),2)\n",
        "rffs=round(f1_score(y_test, y_pred, average='micro'),2)\n",
        "print (\"Confusion Matrix : \\n\", confusion_matrix(y_test, y_pred))\n",
        "print (\"Accuracy : \", accuracy_score(y_test, y_pred))\n",
        "print (\"Precision : \", precision_score(y_test, y_pred, average='micro'))\n",
        "print (\"Recall : \", recall_score(y_test, y_pred, average='micro'))\n",
        "print (\"F1 : \", f1_score(y_test, y_pred, average='micro'))\n",
        "     "
      ],
      "metadata": {
        "colab": {
          "base_uri": "https://localhost:8080/"
        },
        "id": "OML8YSxLbYY4",
        "outputId": "433e1035-1e12-4cd7-c4f0-e2f0b9919f45"
      },
      "execution_count": 3,
      "outputs": [
        {
          "output_type": "stream",
          "name": "stdout",
          "text": [
            "Confusion Matrix : \n",
            " [[57  0  0  0  2  0  0  0  0  0]\n",
            " [ 0 49  0  0  0  0  0  0  0  0]\n",
            " [ 0  0 49  0  0  0  0  0  0  0]\n",
            " [ 0  0  0 62  0  0  0  1  1  0]\n",
            " [ 0  0  0  0 61  0  0  0  0  0]\n",
            " [ 0  0  0  0  0 46  0  0  0  1]\n",
            " [ 0  0  0  0  0  0 51  0  0  0]\n",
            " [ 0  0  0  0  0  0  0 56  0  1]\n",
            " [ 0  0  0  0  0  0  0  0 45  1]\n",
            " [ 0  0  0  0  0  2  0  0  0 55]]\n",
            "Accuracy :  0.9833333333333333\n",
            "Precision :  0.9833333333333333\n",
            "Recall :  0.9833333333333333\n",
            "F1 :  0.9833333333333333\n"
          ]
        }
      ]
    },
    {
      "cell_type": "markdown",
      "source": [
        "GaussianNB"
      ],
      "metadata": {
        "id": "hNCPmEx4qI3L"
      }
    },
    {
      "cell_type": "code",
      "source": [
        "model = GaussianNB()\n",
        "model.fit(X_train, y_train)\n",
        "y_pred = model.predict(X_test)\n",
        "sicm=confusion_matrix(y_test, y_pred)\n",
        "gaas=round(accuracy_score(y_test, y_pred),2)\n",
        "gaps=round(precision_score(y_test, y_pred, average='micro'),2)\n",
        "gars=round(recall_score(y_test, y_pred, average='micro'),2)\n",
        "gafs=round(f1_score(y_test, y_pred, average='micro'),2)\n",
        "print (\"Confusion Matrix : \\n\", confusion_matrix(y_test, y_pred))\n",
        "print (\"Accuracy : \", accuracy_score(y_test, y_pred))\n",
        "print (\"Precision : \", precision_score(y_test, y_pred, average='micro'))\n",
        "print (\"Recall : \", recall_score(y_test, y_pred, average='micro'))\n",
        "print (\"F1 : \", f1_score(y_test, y_pred, average='micro'))"
      ],
      "metadata": {
        "colab": {
          "base_uri": "https://localhost:8080/"
        },
        "id": "RkJsoqp6cCP_",
        "outputId": "f4a00b31-38ca-43f5-a91d-d5385f68291f"
      },
      "execution_count": 4,
      "outputs": [
        {
          "output_type": "stream",
          "name": "stdout",
          "text": [
            "Confusion Matrix : \n",
            " [[54  1  0  0  3  0  0  1  0  0]\n",
            " [ 0 42  1  0  0  0  0  0  6  0]\n",
            " [ 0  5 32  0  0  0  0  0 12  0]\n",
            " [ 0  2  2 51  0  1  0  3  5  0]\n",
            " [ 1  4  0  0 54  0  0  1  1  0]\n",
            " [ 0  2  0  1  0 41  0  2  1  0]\n",
            " [ 0  0  0  0  0  0 51  0  0  0]\n",
            " [ 0  0  0  0  0  0  0 57  0  0]\n",
            " [ 0 10  0  1  0  0  0  1 34  0]\n",
            " [ 0  2  0  1  2  3  1  7  8 33]]\n",
            "Accuracy :  0.8314814814814815\n",
            "Precision :  0.8314814814814815\n",
            "Recall :  0.8314814814814815\n",
            "F1 :  0.8314814814814816\n"
          ]
        }
      ]
    },
    {
      "cell_type": "markdown",
      "source": [
        "SVM Radial Basis"
      ],
      "metadata": {
        "id": "__xBwrZuqO-i"
      }
    },
    {
      "cell_type": "code",
      "source": [
        "clf = svm.SVC(kernel='rbf')\n",
        "#Train the model using the training sets\n",
        "clf.fit(X_train, y_train)\n",
        "#Predict the response for test dataset\n",
        "y_pred = clf.predict(X_test)\n",
        "rbcm=confusion_matrix(y_test, y_pred)\n",
        "rbas=round(accuracy_score(y_test, y_pred),2)\n",
        "rbps=round(precision_score(y_test, y_pred, average='micro'),2)\n",
        "rbrs=round(recall_score(y_test, y_pred, average='micro'),2)\n",
        "rbfs=round(f1_score(y_test, y_pred, average='micro'),2)\n",
        "print (\"Confusion Matrix : \\n\", confusion_matrix(y_test, y_pred))\n",
        "print (\"Accuracy : \", accuracy_score(y_test, y_pred))\n",
        "print (\"Precision : \", precision_score(y_test, y_pred, average='micro'))\n",
        "print (\"Recall : \", recall_score(y_test, y_pred, average='micro'))\n",
        "print (\"F1 : \", f1_score(y_test, y_pred, average='micro'))\n",
        "     "
      ],
      "metadata": {
        "colab": {
          "base_uri": "https://localhost:8080/"
        },
        "id": "EG7M_mgLcv8u",
        "outputId": "88830d17-beaa-4fbe-9b78-081ac67aafb0"
      },
      "execution_count": 8,
      "outputs": [
        {
          "output_type": "stream",
          "name": "stdout",
          "text": [
            "Confusion Matrix : \n",
            " [[58  0  0  0  1  0  0  0  0  0]\n",
            " [ 0 49  0  0  0  0  0  0  0  0]\n",
            " [ 0  0 49  0  0  0  0  0  0  0]\n",
            " [ 0  0  1 63  0  0  0  0  0  0]\n",
            " [ 0  0  0  0 61  0  0  0  0  0]\n",
            " [ 0  0  0  0  0 46  0  0  0  1]\n",
            " [ 0  0  0  0  0  0 51  0  0  0]\n",
            " [ 0  0  0  0  0  0  0 56  0  1]\n",
            " [ 0  1  0  0  0  0  0  0 44  1]\n",
            " [ 0  0  0  0  0  2  0  0  0 55]]\n",
            "Accuracy :  0.9851851851851852\n",
            "Precision :  0.9851851851851852\n",
            "Recall :  0.9851851851851852\n",
            "F1 :  0.9851851851851852\n"
          ]
        }
      ]
    },
    {
      "cell_type": "markdown",
      "source": [
        "Using selection feature"
      ],
      "metadata": {
        "id": "JO372WIxqkHo"
      }
    },
    {
      "cell_type": "code",
      "source": [
        "fs = SelectKBest(score_func=f_classif, k=2)\n",
        "# apply feature selection\n",
        "X_selected = fs.fit_transform(X, Y)\n",
        "Xs_train, Xs_test, ys_train, ys_test = train_test_split(X_selected, Y, test_size=0.3, train_size=0.7,  random_state = 1)\n",
        "clf.fit(Xs_train,ys_train)\n",
        "ys_pred = clf.predict(Xs_test)"
      ],
      "metadata": {
        "colab": {
          "base_uri": "https://localhost:8080/"
        },
        "id": "w1h2imgVdGjP",
        "outputId": "f7bd3915-de93-4120-cbd8-0322fc00e964"
      },
      "execution_count": 9,
      "outputs": [
        {
          "output_type": "stream",
          "name": "stderr",
          "text": [
            "/usr/local/lib/python3.9/dist-packages/sklearn/feature_selection/_univariate_selection.py:112: UserWarning: Features [ 0 32 39] are constant.\n",
            "  warnings.warn(\"Features %s are constant.\" % constant_features_idx, UserWarning)\n",
            "/usr/local/lib/python3.9/dist-packages/sklearn/feature_selection/_univariate_selection.py:113: RuntimeWarning: invalid value encountered in true_divide\n",
            "  f = msb / msw\n"
          ]
        }
      ]
    },
    {
      "cell_type": "markdown",
      "source": [
        "Random Forest"
      ],
      "metadata": {
        "id": "eBqv5f3IqrcK"
      }
    },
    {
      "cell_type": "code",
      "source": [
        "sicm=confusion_matrix(ys_test, ys_pred)\n",
        "rfuas=round(accuracy_score(ys_test, ys_pred),2)\n",
        "rfups=round(precision_score(ys_test, ys_pred, average='micro'),2)\n",
        "rfurs=round(recall_score(ys_test, ys_pred, average='micro'),2)\n",
        "rfufs=round(f1_score(ys_test, ys_pred, average='micro'),2)\n",
        "print (\"Confusion Matrix : \\n\", confusion_matrix(ys_test, ys_pred))\n",
        "print (\"Accuracy : \", accuracy_score(ys_test, ys_pred))\n",
        "print (\"Precision : \", precision_score(ys_test, ys_pred, average='micro'))\n",
        "print (\"Recall : \", recall_score(ys_test, ys_pred, average='micro'))\n",
        "print (\"F1 : \", f1_score(ys_test, ys_pred, average='micro'))\n",
        "     "
      ],
      "metadata": {
        "colab": {
          "base_uri": "https://localhost:8080/"
        },
        "id": "YmhFcOZiquVy",
        "outputId": "6fa4ad2c-d606-4ec9-e101-00366145912e"
      },
      "execution_count": 10,
      "outputs": [
        {
          "output_type": "stream",
          "name": "stdout",
          "text": [
            "Confusion Matrix : \n",
            " [[26  0  0  0  7  1 22  2  0  1]\n",
            " [ 2  0 13  0  0  7  6  1 13  7]\n",
            " [ 0  0 37  0  0  0  1  0 10  1]\n",
            " [ 0  0 48  0  0  1  0  1 13  1]\n",
            " [ 9  0  0  0 38  1 10  1  2  0]\n",
            " [ 2  0  1  0  1 25  7  0  4  7]\n",
            " [ 8  0  0  0  4  9 17  0  6  7]\n",
            " [ 2  0 25  0  0  2  4  9 12  3]\n",
            " [ 0  0 12  0  0  6  2  2 12 12]\n",
            " [ 0  0  7  0  0 13  2  0 20 15]]\n",
            "Accuracy :  0.3314814814814815\n",
            "Precision :  0.3314814814814815\n",
            "Recall :  0.3314814814814815\n",
            "F1 :  0.3314814814814815\n"
          ]
        }
      ]
    },
    {
      "cell_type": "markdown",
      "source": [
        "GaussianNB"
      ],
      "metadata": {
        "id": "-V6OWEXWqwUK"
      }
    },
    {
      "cell_type": "code",
      "source": [
        "model = GaussianNB()\n",
        "model.fit(Xs_train, ys_train)\n",
        "ys_pred = model.predict(Xs_test)\n",
        "sicm=confusion_matrix(ys_test, ys_pred)\n",
        "gauas=round(accuracy_score(ys_test, ys_pred),2)\n",
        "gaups=round(precision_score(ys_test, ys_pred, average='micro'),2)\n",
        "gaurs=round(recall_score(ys_test, ys_pred, average='micro'),2)\n",
        "gaufs=round(f1_score(ys_test, ys_pred, average='micro'),2)\n",
        "print (\"Confusion Matrix : \\n\", confusion_matrix(ys_test, ys_pred))\n",
        "print (\"Accuracy : \", accuracy_score(ys_test, ys_pred))\n",
        "print (\"Precision : \", precision_score(ys_test, ys_pred, average='micro'))\n",
        "print (\"Recall : \", recall_score(ys_test, ys_pred, average='micro'))\n",
        "print (\"F1 : \", f1_score(ys_test, ys_pred, average='micro'))\n",
        "     "
      ],
      "metadata": {
        "colab": {
          "base_uri": "https://localhost:8080/"
        },
        "id": "m91H-EeGqyuj",
        "outputId": "28c11998-9442-40ed-b9a2-ed7f24853cc8"
      },
      "execution_count": 11,
      "outputs": [
        {
          "output_type": "stream",
          "name": "stdout",
          "text": [
            "Confusion Matrix : \n",
            " [[22  1  0  0 13 12  7  2  0  2]\n",
            " [ 2  0 10  9  1  7  0  1  0 19]\n",
            " [ 0  0 11 32  0  1  0  0  0  5]\n",
            " [ 0  0  9 48  0  0  0  1  0  6]\n",
            " [ 7  1  1  0 43  5  3  1  0  0]\n",
            " [ 4  1  2  1  1 14  2  0  0 22]\n",
            " [ 7  0  2  0  6 15  8  0  1 12]\n",
            " [ 4  0 12 19  1  3  0  7  1 10]\n",
            " [ 0  1  6  8  0  2  0  3  1 25]\n",
            " [ 0  1  9  5  0  2  0  0  2 38]]\n",
            "Accuracy :  0.35555555555555557\n",
            "Precision :  0.35555555555555557\n",
            "Recall :  0.35555555555555557\n",
            "F1 :  0.35555555555555557\n"
          ]
        }
      ]
    },
    {
      "cell_type": "markdown",
      "source": [
        "SVM Radial Basis"
      ],
      "metadata": {
        "id": "uUibauZzq12b"
      }
    },
    {
      "cell_type": "code",
      "source": [
        "clf = svm.SVC(kernel='rbf')\n",
        "#Train the model using the training sets\n",
        "clf.fit(Xs_train, ys_train)\n",
        "#Predict the response for test dataset\n",
        "y_pred = clf.predict(Xs_test)\n",
        "rbcm=confusion_matrix(ys_test, ys_pred)\n",
        "rbuas=round(accuracy_score(ys_test, ys_pred),2)\n",
        "rbups=round(precision_score(ys_test, ys_pred, average='micro'),2)\n",
        "rburs=round(recall_score(ys_test, ys_pred, average='micro'),2)\n",
        "rbufs=round(f1_score(ys_test, ys_pred, average='micro'),2)\n",
        "print (\"Confusion Matrix : \\n\", confusion_matrix(ys_test, ys_pred))\n",
        "print (\"Accuracy : \", accuracy_score(ys_test, ys_pred))\n",
        "print (\"Precision : \", precision_score(ys_test, ys_pred, average='micro'))\n",
        "print (\"Recall : \", recall_score(ys_test, ys_pred, average='micro'))\n",
        "print (\"F1 : \", f1_score(ys_test, ys_pred, average='micro'))\n",
        "     "
      ],
      "metadata": {
        "colab": {
          "base_uri": "https://localhost:8080/"
        },
        "id": "w2nTqn_wq3nT",
        "outputId": "1f403e29-3fd6-41dc-f8e7-eb6b925c7ea5"
      },
      "execution_count": 12,
      "outputs": [
        {
          "output_type": "stream",
          "name": "stdout",
          "text": [
            "Confusion Matrix : \n",
            " [[22  1  0  0 13 12  7  2  0  2]\n",
            " [ 2  0 10  9  1  7  0  1  0 19]\n",
            " [ 0  0 11 32  0  1  0  0  0  5]\n",
            " [ 0  0  9 48  0  0  0  1  0  6]\n",
            " [ 7  1  1  0 43  5  3  1  0  0]\n",
            " [ 4  1  2  1  1 14  2  0  0 22]\n",
            " [ 7  0  2  0  6 15  8  0  1 12]\n",
            " [ 4  0 12 19  1  3  0  7  1 10]\n",
            " [ 0  1  6  8  0  2  0  3  1 25]\n",
            " [ 0  1  9  5  0  2  0  0  2 38]]\n",
            "Accuracy :  0.35555555555555557\n",
            "Precision :  0.35555555555555557\n",
            "Recall :  0.35555555555555557\n",
            "F1 :  0.35555555555555557\n"
          ]
        }
      ]
    },
    {
      "cell_type": "code",
      "source": [
        "t= PrettyTable(['Algorithm','Using selection feature', 'Accuracy','Precision','Recall','F1'])\n",
        "t.add_row(['Random Forest','false',rfas,rfps,rfrs,rffs])\n",
        "t.add_row(['Random Forest','true',rfuas,rfups,rfurs,rfufs])\n",
        "t.add_row(['GaussianNB','false',gaas,gaps,gars,gafs])\n",
        "t.add_row(['GaussianNB','true',gauas,gaups,gaurs,gaufs])\n",
        "t.add_row(['SVM Radial Basis','false',rbas,rbps,rbrs,rbfs])\n",
        "t.add_row(['SVM Radial Basis','true',rbuas,rbups,rburs,rbufs])\n",
        "print(t)"
      ],
      "metadata": {
        "colab": {
          "base_uri": "https://localhost:8080/"
        },
        "id": "BI3aCdcEq6dz",
        "outputId": "9756548f-208d-43e2-f10f-3ef4dd125e5b"
      },
      "execution_count": 13,
      "outputs": [
        {
          "output_type": "stream",
          "name": "stdout",
          "text": [
            "+------------------+-------------------------+----------+-----------+--------+------+\n",
            "|    Algorithm     | Using selection feature | Accuracy | Precision | Recall |  F1  |\n",
            "+------------------+-------------------------+----------+-----------+--------+------+\n",
            "|  Random Forest   |          false          |   0.98   |    0.98   |  0.98  | 0.98 |\n",
            "|  Random Forest   |           true          |   0.33   |    0.33   |  0.33  | 0.33 |\n",
            "|    GaussianNB    |          false          |   0.83   |    0.83   |  0.83  | 0.83 |\n",
            "|    GaussianNB    |           true          |   0.36   |    0.36   |  0.36  | 0.36 |\n",
            "| SVM Radial Basis |          false          |   0.99   |    0.99   |  0.99  | 0.99 |\n",
            "| SVM Radial Basis |           true          |   0.36   |    0.36   |  0.36  | 0.36 |\n",
            "+------------------+-------------------------+----------+-----------+--------+------+\n"
          ]
        }
      ]
    },
    {
      "cell_type": "markdown",
      "source": [
        "#Task 2. \n",
        "For given bank dataset (bank.csv) having the following attributes :\n",
        "1.\t**age** (numeric)\n",
        "2.\t**job** : type of job (categorical: 'admin.','blue-collar','entrepreneur','housemaid','management','retired','self-employed','services','student','technician','unemployed','unknown')\n",
        "3.\t**marital** : marital status (categorical: 'divorced','married','single','unknown'; note: 'divorced' means divorced or widowed)\n",
        "4.\t**education** (categorical: 'basic.4y','basic.6y','basic.9y','high.school','illiterate','professional.course','university.degree','unknown')\n",
        "5.\t**default**: has credit in default? (categorical: 'no','yes','unknown')\n",
        "6.\t**housing**: has housing loan? (categorical: 'no','yes','unknown')\n",
        "7.\t**loan**: has personal loan? (categorical: 'no','yes','unknown')\n",
        "8.\t**contact**: contact communication type (categorical: 'cellular','telephone')\n",
        "9.\t**month**: last contact month of year (categorical: 'jan', 'feb', 'mar', ..., 'nov', 'dec')\n",
        "10.\t**day_of_week**: last contact day of the week (categorical: 'mon','tue','wed','thu','fri')\n",
        "11.\t**duration**: last contact duration, in seconds (numeric). Important note: this attribute highly affects the output target (e.g., if duration=0 then y='no'). Yet, the duration is not known before a call is performed. Also, after the end of the call y is obviously known. Thus, this input should only be included for benchmark purposes and should be discarded if the intention is to have a realistic predictive model.\n",
        "12.\t**campaign**: number of contacts performed during this campaign and for this client (numeric, includes last contact)\n",
        "13.\t**pdays**: number of days that passed by after the client was last contacted from a previous campaign (numeric; 999 means client was not previously contacted)\n",
        "14.\t**previous**: number of contacts performed before this campaign and for this client (numeric)\n",
        "15.\t**poutcome**: outcome of the previous marketing campaign (categorical: 'failure','nonexistent','success')\n",
        "Output variable (desired target):\n",
        "16.\t**y**. has the client subscribed a term deposit? (binary: 'yes','no')\n",
        "\n"
      ],
      "metadata": {
        "id": "b52OPWPD2afi"
      }
    },
    {
      "cell_type": "markdown",
      "source": [
        "#3.1. Apply StandardScaler() function to columns that contains numerical data ('age', 'balance', 'day', 'campaign', 'pdays', 'previous')"
      ],
      "metadata": {
        "id": "q89LEvT7dqaZ"
      }
    },
    {
      "cell_type": "code",
      "source": [
        "#code\n",
        "from sklearn.preprocessing import StandardScaler\n",
        "     "
      ],
      "metadata": {
        "id": "8vx3mfIidu4P"
      },
      "execution_count": 14,
      "outputs": []
    },
    {
      "cell_type": "code",
      "source": [
        "bank= pd.read_csv('bank.csv')\n",
        "scaler = StandardScaler()\n",
        "name=['age', 'balance', 'day', 'campaign', 'pdays', 'previous']\n",
        "data= bank[name]\n",
        "bank[['age', 'balance', 'day', 'campaign', 'pdays', 'previous']] = scaler.fit_transform(data[['age', 'balance', 'day', 'campaign', 'pdays', 'previous']])\n",
        "bank"
      ],
      "metadata": {
        "colab": {
          "base_uri": "https://localhost:8080/",
          "height": 467
        },
        "id": "3c4ugp2nrBHD",
        "outputId": "7814cb21-484e-4957-bd1e-679035d662c9"
      },
      "execution_count": 15,
      "outputs": [
        {
          "output_type": "execute_result",
          "data": {
            "text/plain": [
              "            age          job  marital  education default   balance housing  \\\n",
              "0      1.491505       admin.  married  secondary      no  0.252525     yes   \n",
              "1      1.239676       admin.  married  secondary      no -0.459974      no   \n",
              "2     -0.019470   technician  married  secondary      no -0.080160     yes   \n",
              "3      1.155733     services  married  secondary      no  0.293762     yes   \n",
              "4      1.071790       admin.  married   tertiary      no -0.416876      no   \n",
              "...         ...          ...      ...        ...     ...       ...     ...   \n",
              "11157 -0.691015  blue-collar   single    primary      no -0.473616     yes   \n",
              "11158 -0.187357     services  married  secondary      no -0.246658      no   \n",
              "11159 -0.774958   technician   single  secondary      no -0.464934      no   \n",
              "11160  0.148416   technician  married  secondary      no -0.473926      no   \n",
              "11161 -0.607072   technician  married  secondary      no -0.473926      no   \n",
              "\n",
              "      loan   contact       day month  duration  campaign     pdays  previous  \\\n",
              "0       no   unknown -1.265746   may      1042 -0.554168 -0.481184 -0.363260   \n",
              "1       no   unknown -1.265746   may      1467 -0.554168 -0.481184 -0.363260   \n",
              "2       no   unknown -1.265746   may      1389 -0.554168 -0.481184 -0.363260   \n",
              "3       no   unknown -1.265746   may       579 -0.554168 -0.481184 -0.363260   \n",
              "4       no   unknown -1.265746   may       673 -0.186785 -0.481184 -0.363260   \n",
              "...    ...       ...       ...   ...       ...       ...       ...       ...   \n",
              "11157   no  cellular  0.515650   apr       257 -0.554168 -0.481184 -0.363260   \n",
              "11158   no   unknown  0.040612   jun        83  0.547981 -0.481184 -0.363260   \n",
              "11159   no  cellular  0.396891   aug       156 -0.186785 -0.481184 -0.363260   \n",
              "11160  yes  cellular -0.909466   may         9 -0.186785  1.109571  1.818332   \n",
              "11161   no  cellular -0.790707   jul       628 -0.554168 -0.481184 -0.363260   \n",
              "\n",
              "      poutcome deposit  \n",
              "0      unknown     yes  \n",
              "1      unknown     yes  \n",
              "2      unknown     yes  \n",
              "3      unknown     yes  \n",
              "4      unknown     yes  \n",
              "...        ...     ...  \n",
              "11157  unknown      no  \n",
              "11158  unknown      no  \n",
              "11159  unknown      no  \n",
              "11160  failure      no  \n",
              "11161  unknown      no  \n",
              "\n",
              "[11162 rows x 17 columns]"
            ],
            "text/html": [
              "\n",
              "  <div id=\"df-91da326d-beed-4cc6-8cbb-e73083950859\">\n",
              "    <div class=\"colab-df-container\">\n",
              "      <div>\n",
              "<style scoped>\n",
              "    .dataframe tbody tr th:only-of-type {\n",
              "        vertical-align: middle;\n",
              "    }\n",
              "\n",
              "    .dataframe tbody tr th {\n",
              "        vertical-align: top;\n",
              "    }\n",
              "\n",
              "    .dataframe thead th {\n",
              "        text-align: right;\n",
              "    }\n",
              "</style>\n",
              "<table border=\"1\" class=\"dataframe\">\n",
              "  <thead>\n",
              "    <tr style=\"text-align: right;\">\n",
              "      <th></th>\n",
              "      <th>age</th>\n",
              "      <th>job</th>\n",
              "      <th>marital</th>\n",
              "      <th>education</th>\n",
              "      <th>default</th>\n",
              "      <th>balance</th>\n",
              "      <th>housing</th>\n",
              "      <th>loan</th>\n",
              "      <th>contact</th>\n",
              "      <th>day</th>\n",
              "      <th>month</th>\n",
              "      <th>duration</th>\n",
              "      <th>campaign</th>\n",
              "      <th>pdays</th>\n",
              "      <th>previous</th>\n",
              "      <th>poutcome</th>\n",
              "      <th>deposit</th>\n",
              "    </tr>\n",
              "  </thead>\n",
              "  <tbody>\n",
              "    <tr>\n",
              "      <th>0</th>\n",
              "      <td>1.491505</td>\n",
              "      <td>admin.</td>\n",
              "      <td>married</td>\n",
              "      <td>secondary</td>\n",
              "      <td>no</td>\n",
              "      <td>0.252525</td>\n",
              "      <td>yes</td>\n",
              "      <td>no</td>\n",
              "      <td>unknown</td>\n",
              "      <td>-1.265746</td>\n",
              "      <td>may</td>\n",
              "      <td>1042</td>\n",
              "      <td>-0.554168</td>\n",
              "      <td>-0.481184</td>\n",
              "      <td>-0.363260</td>\n",
              "      <td>unknown</td>\n",
              "      <td>yes</td>\n",
              "    </tr>\n",
              "    <tr>\n",
              "      <th>1</th>\n",
              "      <td>1.239676</td>\n",
              "      <td>admin.</td>\n",
              "      <td>married</td>\n",
              "      <td>secondary</td>\n",
              "      <td>no</td>\n",
              "      <td>-0.459974</td>\n",
              "      <td>no</td>\n",
              "      <td>no</td>\n",
              "      <td>unknown</td>\n",
              "      <td>-1.265746</td>\n",
              "      <td>may</td>\n",
              "      <td>1467</td>\n",
              "      <td>-0.554168</td>\n",
              "      <td>-0.481184</td>\n",
              "      <td>-0.363260</td>\n",
              "      <td>unknown</td>\n",
              "      <td>yes</td>\n",
              "    </tr>\n",
              "    <tr>\n",
              "      <th>2</th>\n",
              "      <td>-0.019470</td>\n",
              "      <td>technician</td>\n",
              "      <td>married</td>\n",
              "      <td>secondary</td>\n",
              "      <td>no</td>\n",
              "      <td>-0.080160</td>\n",
              "      <td>yes</td>\n",
              "      <td>no</td>\n",
              "      <td>unknown</td>\n",
              "      <td>-1.265746</td>\n",
              "      <td>may</td>\n",
              "      <td>1389</td>\n",
              "      <td>-0.554168</td>\n",
              "      <td>-0.481184</td>\n",
              "      <td>-0.363260</td>\n",
              "      <td>unknown</td>\n",
              "      <td>yes</td>\n",
              "    </tr>\n",
              "    <tr>\n",
              "      <th>3</th>\n",
              "      <td>1.155733</td>\n",
              "      <td>services</td>\n",
              "      <td>married</td>\n",
              "      <td>secondary</td>\n",
              "      <td>no</td>\n",
              "      <td>0.293762</td>\n",
              "      <td>yes</td>\n",
              "      <td>no</td>\n",
              "      <td>unknown</td>\n",
              "      <td>-1.265746</td>\n",
              "      <td>may</td>\n",
              "      <td>579</td>\n",
              "      <td>-0.554168</td>\n",
              "      <td>-0.481184</td>\n",
              "      <td>-0.363260</td>\n",
              "      <td>unknown</td>\n",
              "      <td>yes</td>\n",
              "    </tr>\n",
              "    <tr>\n",
              "      <th>4</th>\n",
              "      <td>1.071790</td>\n",
              "      <td>admin.</td>\n",
              "      <td>married</td>\n",
              "      <td>tertiary</td>\n",
              "      <td>no</td>\n",
              "      <td>-0.416876</td>\n",
              "      <td>no</td>\n",
              "      <td>no</td>\n",
              "      <td>unknown</td>\n",
              "      <td>-1.265746</td>\n",
              "      <td>may</td>\n",
              "      <td>673</td>\n",
              "      <td>-0.186785</td>\n",
              "      <td>-0.481184</td>\n",
              "      <td>-0.363260</td>\n",
              "      <td>unknown</td>\n",
              "      <td>yes</td>\n",
              "    </tr>\n",
              "    <tr>\n",
              "      <th>...</th>\n",
              "      <td>...</td>\n",
              "      <td>...</td>\n",
              "      <td>...</td>\n",
              "      <td>...</td>\n",
              "      <td>...</td>\n",
              "      <td>...</td>\n",
              "      <td>...</td>\n",
              "      <td>...</td>\n",
              "      <td>...</td>\n",
              "      <td>...</td>\n",
              "      <td>...</td>\n",
              "      <td>...</td>\n",
              "      <td>...</td>\n",
              "      <td>...</td>\n",
              "      <td>...</td>\n",
              "      <td>...</td>\n",
              "      <td>...</td>\n",
              "    </tr>\n",
              "    <tr>\n",
              "      <th>11157</th>\n",
              "      <td>-0.691015</td>\n",
              "      <td>blue-collar</td>\n",
              "      <td>single</td>\n",
              "      <td>primary</td>\n",
              "      <td>no</td>\n",
              "      <td>-0.473616</td>\n",
              "      <td>yes</td>\n",
              "      <td>no</td>\n",
              "      <td>cellular</td>\n",
              "      <td>0.515650</td>\n",
              "      <td>apr</td>\n",
              "      <td>257</td>\n",
              "      <td>-0.554168</td>\n",
              "      <td>-0.481184</td>\n",
              "      <td>-0.363260</td>\n",
              "      <td>unknown</td>\n",
              "      <td>no</td>\n",
              "    </tr>\n",
              "    <tr>\n",
              "      <th>11158</th>\n",
              "      <td>-0.187357</td>\n",
              "      <td>services</td>\n",
              "      <td>married</td>\n",
              "      <td>secondary</td>\n",
              "      <td>no</td>\n",
              "      <td>-0.246658</td>\n",
              "      <td>no</td>\n",
              "      <td>no</td>\n",
              "      <td>unknown</td>\n",
              "      <td>0.040612</td>\n",
              "      <td>jun</td>\n",
              "      <td>83</td>\n",
              "      <td>0.547981</td>\n",
              "      <td>-0.481184</td>\n",
              "      <td>-0.363260</td>\n",
              "      <td>unknown</td>\n",
              "      <td>no</td>\n",
              "    </tr>\n",
              "    <tr>\n",
              "      <th>11159</th>\n",
              "      <td>-0.774958</td>\n",
              "      <td>technician</td>\n",
              "      <td>single</td>\n",
              "      <td>secondary</td>\n",
              "      <td>no</td>\n",
              "      <td>-0.464934</td>\n",
              "      <td>no</td>\n",
              "      <td>no</td>\n",
              "      <td>cellular</td>\n",
              "      <td>0.396891</td>\n",
              "      <td>aug</td>\n",
              "      <td>156</td>\n",
              "      <td>-0.186785</td>\n",
              "      <td>-0.481184</td>\n",
              "      <td>-0.363260</td>\n",
              "      <td>unknown</td>\n",
              "      <td>no</td>\n",
              "    </tr>\n",
              "    <tr>\n",
              "      <th>11160</th>\n",
              "      <td>0.148416</td>\n",
              "      <td>technician</td>\n",
              "      <td>married</td>\n",
              "      <td>secondary</td>\n",
              "      <td>no</td>\n",
              "      <td>-0.473926</td>\n",
              "      <td>no</td>\n",
              "      <td>yes</td>\n",
              "      <td>cellular</td>\n",
              "      <td>-0.909466</td>\n",
              "      <td>may</td>\n",
              "      <td>9</td>\n",
              "      <td>-0.186785</td>\n",
              "      <td>1.109571</td>\n",
              "      <td>1.818332</td>\n",
              "      <td>failure</td>\n",
              "      <td>no</td>\n",
              "    </tr>\n",
              "    <tr>\n",
              "      <th>11161</th>\n",
              "      <td>-0.607072</td>\n",
              "      <td>technician</td>\n",
              "      <td>married</td>\n",
              "      <td>secondary</td>\n",
              "      <td>no</td>\n",
              "      <td>-0.473926</td>\n",
              "      <td>no</td>\n",
              "      <td>no</td>\n",
              "      <td>cellular</td>\n",
              "      <td>-0.790707</td>\n",
              "      <td>jul</td>\n",
              "      <td>628</td>\n",
              "      <td>-0.554168</td>\n",
              "      <td>-0.481184</td>\n",
              "      <td>-0.363260</td>\n",
              "      <td>unknown</td>\n",
              "      <td>no</td>\n",
              "    </tr>\n",
              "  </tbody>\n",
              "</table>\n",
              "<p>11162 rows × 17 columns</p>\n",
              "</div>\n",
              "      <button class=\"colab-df-convert\" onclick=\"convertToInteractive('df-91da326d-beed-4cc6-8cbb-e73083950859')\"\n",
              "              title=\"Convert this dataframe to an interactive table.\"\n",
              "              style=\"display:none;\">\n",
              "        \n",
              "  <svg xmlns=\"http://www.w3.org/2000/svg\" height=\"24px\"viewBox=\"0 0 24 24\"\n",
              "       width=\"24px\">\n",
              "    <path d=\"M0 0h24v24H0V0z\" fill=\"none\"/>\n",
              "    <path d=\"M18.56 5.44l.94 2.06.94-2.06 2.06-.94-2.06-.94-.94-2.06-.94 2.06-2.06.94zm-11 1L8.5 8.5l.94-2.06 2.06-.94-2.06-.94L8.5 2.5l-.94 2.06-2.06.94zm10 10l.94 2.06.94-2.06 2.06-.94-2.06-.94-.94-2.06-.94 2.06-2.06.94z\"/><path d=\"M17.41 7.96l-1.37-1.37c-.4-.4-.92-.59-1.43-.59-.52 0-1.04.2-1.43.59L10.3 9.45l-7.72 7.72c-.78.78-.78 2.05 0 2.83L4 21.41c.39.39.9.59 1.41.59.51 0 1.02-.2 1.41-.59l7.78-7.78 2.81-2.81c.8-.78.8-2.07 0-2.86zM5.41 20L4 18.59l7.72-7.72 1.47 1.35L5.41 20z\"/>\n",
              "  </svg>\n",
              "      </button>\n",
              "      \n",
              "  <style>\n",
              "    .colab-df-container {\n",
              "      display:flex;\n",
              "      flex-wrap:wrap;\n",
              "      gap: 12px;\n",
              "    }\n",
              "\n",
              "    .colab-df-convert {\n",
              "      background-color: #E8F0FE;\n",
              "      border: none;\n",
              "      border-radius: 50%;\n",
              "      cursor: pointer;\n",
              "      display: none;\n",
              "      fill: #1967D2;\n",
              "      height: 32px;\n",
              "      padding: 0 0 0 0;\n",
              "      width: 32px;\n",
              "    }\n",
              "\n",
              "    .colab-df-convert:hover {\n",
              "      background-color: #E2EBFA;\n",
              "      box-shadow: 0px 1px 2px rgba(60, 64, 67, 0.3), 0px 1px 3px 1px rgba(60, 64, 67, 0.15);\n",
              "      fill: #174EA6;\n",
              "    }\n",
              "\n",
              "    [theme=dark] .colab-df-convert {\n",
              "      background-color: #3B4455;\n",
              "      fill: #D2E3FC;\n",
              "    }\n",
              "\n",
              "    [theme=dark] .colab-df-convert:hover {\n",
              "      background-color: #434B5C;\n",
              "      box-shadow: 0px 1px 3px 1px rgba(0, 0, 0, 0.15);\n",
              "      filter: drop-shadow(0px 1px 2px rgba(0, 0, 0, 0.3));\n",
              "      fill: #FFFFFF;\n",
              "    }\n",
              "  </style>\n",
              "\n",
              "      <script>\n",
              "        const buttonEl =\n",
              "          document.querySelector('#df-91da326d-beed-4cc6-8cbb-e73083950859 button.colab-df-convert');\n",
              "        buttonEl.style.display =\n",
              "          google.colab.kernel.accessAllowed ? 'block' : 'none';\n",
              "\n",
              "        async function convertToInteractive(key) {\n",
              "          const element = document.querySelector('#df-91da326d-beed-4cc6-8cbb-e73083950859');\n",
              "          const dataTable =\n",
              "            await google.colab.kernel.invokeFunction('convertToInteractive',\n",
              "                                                     [key], {});\n",
              "          if (!dataTable) return;\n",
              "\n",
              "          const docLinkHtml = 'Like what you see? Visit the ' +\n",
              "            '<a target=\"_blank\" href=https://colab.research.google.com/notebooks/data_table.ipynb>data table notebook</a>'\n",
              "            + ' to learn more about interactive tables.';\n",
              "          element.innerHTML = '';\n",
              "          dataTable['output_type'] = 'display_data';\n",
              "          await google.colab.output.renderOutput(dataTable, element);\n",
              "          const docLink = document.createElement('div');\n",
              "          docLink.innerHTML = docLinkHtml;\n",
              "          element.appendChild(docLink);\n",
              "        }\n",
              "      </script>\n",
              "    </div>\n",
              "  </div>\n",
              "  "
            ]
          },
          "metadata": {},
          "execution_count": 15
        }
      ]
    },
    {
      "cell_type": "markdown",
      "source": [
        "#3.2. Apply Encode Categorical Value (OneHotEncoder) to transfrom categorical data to numerical data ('job', 'marital', 'education', 'default', 'housing', 'loan', 'contact', 'month', 'poutcome')"
      ],
      "metadata": {
        "id": "r7acR0TxdvY8"
      }
    },
    {
      "cell_type": "code",
      "source": [
        "#code\n",
        "from numpy import asarray\n",
        "from sklearn.preprocessing import OneHotEncoder\n",
        "from sklearn.preprocessing import LabelEncoder"
      ],
      "metadata": {
        "id": "egtgBmAtd0um"
      },
      "execution_count": 16,
      "outputs": []
    },
    {
      "cell_type": "code",
      "source": [
        "bank = pd.get_dummies(bank,drop_first=True)\n",
        "bank\n",
        "     "
      ],
      "metadata": {
        "colab": {
          "base_uri": "https://localhost:8080/",
          "height": 505
        },
        "id": "ZTAV1-IbrIkh",
        "outputId": "504b6785-de53-439c-bc98-c0d79747a814"
      },
      "execution_count": 17,
      "outputs": [
        {
          "output_type": "execute_result",
          "data": {
            "text/plain": [
              "            age   balance       day  duration  campaign     pdays  previous  \\\n",
              "0      1.491505  0.252525 -1.265746      1042 -0.554168 -0.481184 -0.363260   \n",
              "1      1.239676 -0.459974 -1.265746      1467 -0.554168 -0.481184 -0.363260   \n",
              "2     -0.019470 -0.080160 -1.265746      1389 -0.554168 -0.481184 -0.363260   \n",
              "3      1.155733  0.293762 -1.265746       579 -0.554168 -0.481184 -0.363260   \n",
              "4      1.071790 -0.416876 -1.265746       673 -0.186785 -0.481184 -0.363260   \n",
              "...         ...       ...       ...       ...       ...       ...       ...   \n",
              "11157 -0.691015 -0.473616  0.515650       257 -0.554168 -0.481184 -0.363260   \n",
              "11158 -0.187357 -0.246658  0.040612        83  0.547981 -0.481184 -0.363260   \n",
              "11159 -0.774958 -0.464934  0.396891       156 -0.186785 -0.481184 -0.363260   \n",
              "11160  0.148416 -0.473926 -0.909466         9 -0.186785  1.109571  1.818332   \n",
              "11161 -0.607072 -0.473926 -0.790707       628 -0.554168 -0.481184 -0.363260   \n",
              "\n",
              "       job_blue-collar  job_entrepreneur  job_housemaid  ...  month_jun  \\\n",
              "0                    0                 0              0  ...          0   \n",
              "1                    0                 0              0  ...          0   \n",
              "2                    0                 0              0  ...          0   \n",
              "3                    0                 0              0  ...          0   \n",
              "4                    0                 0              0  ...          0   \n",
              "...                ...               ...            ...  ...        ...   \n",
              "11157                1                 0              0  ...          0   \n",
              "11158                0                 0              0  ...          1   \n",
              "11159                0                 0              0  ...          0   \n",
              "11160                0                 0              0  ...          0   \n",
              "11161                0                 0              0  ...          0   \n",
              "\n",
              "       month_mar  month_may  month_nov  month_oct  month_sep  poutcome_other  \\\n",
              "0              0          1          0          0          0               0   \n",
              "1              0          1          0          0          0               0   \n",
              "2              0          1          0          0          0               0   \n",
              "3              0          1          0          0          0               0   \n",
              "4              0          1          0          0          0               0   \n",
              "...          ...        ...        ...        ...        ...             ...   \n",
              "11157          0          0          0          0          0               0   \n",
              "11158          0          0          0          0          0               0   \n",
              "11159          0          0          0          0          0               0   \n",
              "11160          0          1          0          0          0               0   \n",
              "11161          0          0          0          0          0               0   \n",
              "\n",
              "       poutcome_success  poutcome_unknown  deposit_yes  \n",
              "0                     0                 1            1  \n",
              "1                     0                 1            1  \n",
              "2                     0                 1            1  \n",
              "3                     0                 1            1  \n",
              "4                     0                 1            1  \n",
              "...                 ...               ...          ...  \n",
              "11157                 0                 1            0  \n",
              "11158                 0                 1            0  \n",
              "11159                 0                 1            0  \n",
              "11160                 0                 0            0  \n",
              "11161                 0                 1            0  \n",
              "\n",
              "[11162 rows x 43 columns]"
            ],
            "text/html": [
              "\n",
              "  <div id=\"df-b5f892c7-531b-479c-b5ef-75d87343eee2\">\n",
              "    <div class=\"colab-df-container\">\n",
              "      <div>\n",
              "<style scoped>\n",
              "    .dataframe tbody tr th:only-of-type {\n",
              "        vertical-align: middle;\n",
              "    }\n",
              "\n",
              "    .dataframe tbody tr th {\n",
              "        vertical-align: top;\n",
              "    }\n",
              "\n",
              "    .dataframe thead th {\n",
              "        text-align: right;\n",
              "    }\n",
              "</style>\n",
              "<table border=\"1\" class=\"dataframe\">\n",
              "  <thead>\n",
              "    <tr style=\"text-align: right;\">\n",
              "      <th></th>\n",
              "      <th>age</th>\n",
              "      <th>balance</th>\n",
              "      <th>day</th>\n",
              "      <th>duration</th>\n",
              "      <th>campaign</th>\n",
              "      <th>pdays</th>\n",
              "      <th>previous</th>\n",
              "      <th>job_blue-collar</th>\n",
              "      <th>job_entrepreneur</th>\n",
              "      <th>job_housemaid</th>\n",
              "      <th>...</th>\n",
              "      <th>month_jun</th>\n",
              "      <th>month_mar</th>\n",
              "      <th>month_may</th>\n",
              "      <th>month_nov</th>\n",
              "      <th>month_oct</th>\n",
              "      <th>month_sep</th>\n",
              "      <th>poutcome_other</th>\n",
              "      <th>poutcome_success</th>\n",
              "      <th>poutcome_unknown</th>\n",
              "      <th>deposit_yes</th>\n",
              "    </tr>\n",
              "  </thead>\n",
              "  <tbody>\n",
              "    <tr>\n",
              "      <th>0</th>\n",
              "      <td>1.491505</td>\n",
              "      <td>0.252525</td>\n",
              "      <td>-1.265746</td>\n",
              "      <td>1042</td>\n",
              "      <td>-0.554168</td>\n",
              "      <td>-0.481184</td>\n",
              "      <td>-0.363260</td>\n",
              "      <td>0</td>\n",
              "      <td>0</td>\n",
              "      <td>0</td>\n",
              "      <td>...</td>\n",
              "      <td>0</td>\n",
              "      <td>0</td>\n",
              "      <td>1</td>\n",
              "      <td>0</td>\n",
              "      <td>0</td>\n",
              "      <td>0</td>\n",
              "      <td>0</td>\n",
              "      <td>0</td>\n",
              "      <td>1</td>\n",
              "      <td>1</td>\n",
              "    </tr>\n",
              "    <tr>\n",
              "      <th>1</th>\n",
              "      <td>1.239676</td>\n",
              "      <td>-0.459974</td>\n",
              "      <td>-1.265746</td>\n",
              "      <td>1467</td>\n",
              "      <td>-0.554168</td>\n",
              "      <td>-0.481184</td>\n",
              "      <td>-0.363260</td>\n",
              "      <td>0</td>\n",
              "      <td>0</td>\n",
              "      <td>0</td>\n",
              "      <td>...</td>\n",
              "      <td>0</td>\n",
              "      <td>0</td>\n",
              "      <td>1</td>\n",
              "      <td>0</td>\n",
              "      <td>0</td>\n",
              "      <td>0</td>\n",
              "      <td>0</td>\n",
              "      <td>0</td>\n",
              "      <td>1</td>\n",
              "      <td>1</td>\n",
              "    </tr>\n",
              "    <tr>\n",
              "      <th>2</th>\n",
              "      <td>-0.019470</td>\n",
              "      <td>-0.080160</td>\n",
              "      <td>-1.265746</td>\n",
              "      <td>1389</td>\n",
              "      <td>-0.554168</td>\n",
              "      <td>-0.481184</td>\n",
              "      <td>-0.363260</td>\n",
              "      <td>0</td>\n",
              "      <td>0</td>\n",
              "      <td>0</td>\n",
              "      <td>...</td>\n",
              "      <td>0</td>\n",
              "      <td>0</td>\n",
              "      <td>1</td>\n",
              "      <td>0</td>\n",
              "      <td>0</td>\n",
              "      <td>0</td>\n",
              "      <td>0</td>\n",
              "      <td>0</td>\n",
              "      <td>1</td>\n",
              "      <td>1</td>\n",
              "    </tr>\n",
              "    <tr>\n",
              "      <th>3</th>\n",
              "      <td>1.155733</td>\n",
              "      <td>0.293762</td>\n",
              "      <td>-1.265746</td>\n",
              "      <td>579</td>\n",
              "      <td>-0.554168</td>\n",
              "      <td>-0.481184</td>\n",
              "      <td>-0.363260</td>\n",
              "      <td>0</td>\n",
              "      <td>0</td>\n",
              "      <td>0</td>\n",
              "      <td>...</td>\n",
              "      <td>0</td>\n",
              "      <td>0</td>\n",
              "      <td>1</td>\n",
              "      <td>0</td>\n",
              "      <td>0</td>\n",
              "      <td>0</td>\n",
              "      <td>0</td>\n",
              "      <td>0</td>\n",
              "      <td>1</td>\n",
              "      <td>1</td>\n",
              "    </tr>\n",
              "    <tr>\n",
              "      <th>4</th>\n",
              "      <td>1.071790</td>\n",
              "      <td>-0.416876</td>\n",
              "      <td>-1.265746</td>\n",
              "      <td>673</td>\n",
              "      <td>-0.186785</td>\n",
              "      <td>-0.481184</td>\n",
              "      <td>-0.363260</td>\n",
              "      <td>0</td>\n",
              "      <td>0</td>\n",
              "      <td>0</td>\n",
              "      <td>...</td>\n",
              "      <td>0</td>\n",
              "      <td>0</td>\n",
              "      <td>1</td>\n",
              "      <td>0</td>\n",
              "      <td>0</td>\n",
              "      <td>0</td>\n",
              "      <td>0</td>\n",
              "      <td>0</td>\n",
              "      <td>1</td>\n",
              "      <td>1</td>\n",
              "    </tr>\n",
              "    <tr>\n",
              "      <th>...</th>\n",
              "      <td>...</td>\n",
              "      <td>...</td>\n",
              "      <td>...</td>\n",
              "      <td>...</td>\n",
              "      <td>...</td>\n",
              "      <td>...</td>\n",
              "      <td>...</td>\n",
              "      <td>...</td>\n",
              "      <td>...</td>\n",
              "      <td>...</td>\n",
              "      <td>...</td>\n",
              "      <td>...</td>\n",
              "      <td>...</td>\n",
              "      <td>...</td>\n",
              "      <td>...</td>\n",
              "      <td>...</td>\n",
              "      <td>...</td>\n",
              "      <td>...</td>\n",
              "      <td>...</td>\n",
              "      <td>...</td>\n",
              "      <td>...</td>\n",
              "    </tr>\n",
              "    <tr>\n",
              "      <th>11157</th>\n",
              "      <td>-0.691015</td>\n",
              "      <td>-0.473616</td>\n",
              "      <td>0.515650</td>\n",
              "      <td>257</td>\n",
              "      <td>-0.554168</td>\n",
              "      <td>-0.481184</td>\n",
              "      <td>-0.363260</td>\n",
              "      <td>1</td>\n",
              "      <td>0</td>\n",
              "      <td>0</td>\n",
              "      <td>...</td>\n",
              "      <td>0</td>\n",
              "      <td>0</td>\n",
              "      <td>0</td>\n",
              "      <td>0</td>\n",
              "      <td>0</td>\n",
              "      <td>0</td>\n",
              "      <td>0</td>\n",
              "      <td>0</td>\n",
              "      <td>1</td>\n",
              "      <td>0</td>\n",
              "    </tr>\n",
              "    <tr>\n",
              "      <th>11158</th>\n",
              "      <td>-0.187357</td>\n",
              "      <td>-0.246658</td>\n",
              "      <td>0.040612</td>\n",
              "      <td>83</td>\n",
              "      <td>0.547981</td>\n",
              "      <td>-0.481184</td>\n",
              "      <td>-0.363260</td>\n",
              "      <td>0</td>\n",
              "      <td>0</td>\n",
              "      <td>0</td>\n",
              "      <td>...</td>\n",
              "      <td>1</td>\n",
              "      <td>0</td>\n",
              "      <td>0</td>\n",
              "      <td>0</td>\n",
              "      <td>0</td>\n",
              "      <td>0</td>\n",
              "      <td>0</td>\n",
              "      <td>0</td>\n",
              "      <td>1</td>\n",
              "      <td>0</td>\n",
              "    </tr>\n",
              "    <tr>\n",
              "      <th>11159</th>\n",
              "      <td>-0.774958</td>\n",
              "      <td>-0.464934</td>\n",
              "      <td>0.396891</td>\n",
              "      <td>156</td>\n",
              "      <td>-0.186785</td>\n",
              "      <td>-0.481184</td>\n",
              "      <td>-0.363260</td>\n",
              "      <td>0</td>\n",
              "      <td>0</td>\n",
              "      <td>0</td>\n",
              "      <td>...</td>\n",
              "      <td>0</td>\n",
              "      <td>0</td>\n",
              "      <td>0</td>\n",
              "      <td>0</td>\n",
              "      <td>0</td>\n",
              "      <td>0</td>\n",
              "      <td>0</td>\n",
              "      <td>0</td>\n",
              "      <td>1</td>\n",
              "      <td>0</td>\n",
              "    </tr>\n",
              "    <tr>\n",
              "      <th>11160</th>\n",
              "      <td>0.148416</td>\n",
              "      <td>-0.473926</td>\n",
              "      <td>-0.909466</td>\n",
              "      <td>9</td>\n",
              "      <td>-0.186785</td>\n",
              "      <td>1.109571</td>\n",
              "      <td>1.818332</td>\n",
              "      <td>0</td>\n",
              "      <td>0</td>\n",
              "      <td>0</td>\n",
              "      <td>...</td>\n",
              "      <td>0</td>\n",
              "      <td>0</td>\n",
              "      <td>1</td>\n",
              "      <td>0</td>\n",
              "      <td>0</td>\n",
              "      <td>0</td>\n",
              "      <td>0</td>\n",
              "      <td>0</td>\n",
              "      <td>0</td>\n",
              "      <td>0</td>\n",
              "    </tr>\n",
              "    <tr>\n",
              "      <th>11161</th>\n",
              "      <td>-0.607072</td>\n",
              "      <td>-0.473926</td>\n",
              "      <td>-0.790707</td>\n",
              "      <td>628</td>\n",
              "      <td>-0.554168</td>\n",
              "      <td>-0.481184</td>\n",
              "      <td>-0.363260</td>\n",
              "      <td>0</td>\n",
              "      <td>0</td>\n",
              "      <td>0</td>\n",
              "      <td>...</td>\n",
              "      <td>0</td>\n",
              "      <td>0</td>\n",
              "      <td>0</td>\n",
              "      <td>0</td>\n",
              "      <td>0</td>\n",
              "      <td>0</td>\n",
              "      <td>0</td>\n",
              "      <td>0</td>\n",
              "      <td>1</td>\n",
              "      <td>0</td>\n",
              "    </tr>\n",
              "  </tbody>\n",
              "</table>\n",
              "<p>11162 rows × 43 columns</p>\n",
              "</div>\n",
              "      <button class=\"colab-df-convert\" onclick=\"convertToInteractive('df-b5f892c7-531b-479c-b5ef-75d87343eee2')\"\n",
              "              title=\"Convert this dataframe to an interactive table.\"\n",
              "              style=\"display:none;\">\n",
              "        \n",
              "  <svg xmlns=\"http://www.w3.org/2000/svg\" height=\"24px\"viewBox=\"0 0 24 24\"\n",
              "       width=\"24px\">\n",
              "    <path d=\"M0 0h24v24H0V0z\" fill=\"none\"/>\n",
              "    <path d=\"M18.56 5.44l.94 2.06.94-2.06 2.06-.94-2.06-.94-.94-2.06-.94 2.06-2.06.94zm-11 1L8.5 8.5l.94-2.06 2.06-.94-2.06-.94L8.5 2.5l-.94 2.06-2.06.94zm10 10l.94 2.06.94-2.06 2.06-.94-2.06-.94-.94-2.06-.94 2.06-2.06.94z\"/><path d=\"M17.41 7.96l-1.37-1.37c-.4-.4-.92-.59-1.43-.59-.52 0-1.04.2-1.43.59L10.3 9.45l-7.72 7.72c-.78.78-.78 2.05 0 2.83L4 21.41c.39.39.9.59 1.41.59.51 0 1.02-.2 1.41-.59l7.78-7.78 2.81-2.81c.8-.78.8-2.07 0-2.86zM5.41 20L4 18.59l7.72-7.72 1.47 1.35L5.41 20z\"/>\n",
              "  </svg>\n",
              "      </button>\n",
              "      \n",
              "  <style>\n",
              "    .colab-df-container {\n",
              "      display:flex;\n",
              "      flex-wrap:wrap;\n",
              "      gap: 12px;\n",
              "    }\n",
              "\n",
              "    .colab-df-convert {\n",
              "      background-color: #E8F0FE;\n",
              "      border: none;\n",
              "      border-radius: 50%;\n",
              "      cursor: pointer;\n",
              "      display: none;\n",
              "      fill: #1967D2;\n",
              "      height: 32px;\n",
              "      padding: 0 0 0 0;\n",
              "      width: 32px;\n",
              "    }\n",
              "\n",
              "    .colab-df-convert:hover {\n",
              "      background-color: #E2EBFA;\n",
              "      box-shadow: 0px 1px 2px rgba(60, 64, 67, 0.3), 0px 1px 3px 1px rgba(60, 64, 67, 0.15);\n",
              "      fill: #174EA6;\n",
              "    }\n",
              "\n",
              "    [theme=dark] .colab-df-convert {\n",
              "      background-color: #3B4455;\n",
              "      fill: #D2E3FC;\n",
              "    }\n",
              "\n",
              "    [theme=dark] .colab-df-convert:hover {\n",
              "      background-color: #434B5C;\n",
              "      box-shadow: 0px 1px 3px 1px rgba(0, 0, 0, 0.15);\n",
              "      filter: drop-shadow(0px 1px 2px rgba(0, 0, 0, 0.3));\n",
              "      fill: #FFFFFF;\n",
              "    }\n",
              "  </style>\n",
              "\n",
              "      <script>\n",
              "        const buttonEl =\n",
              "          document.querySelector('#df-b5f892c7-531b-479c-b5ef-75d87343eee2 button.colab-df-convert');\n",
              "        buttonEl.style.display =\n",
              "          google.colab.kernel.accessAllowed ? 'block' : 'none';\n",
              "\n",
              "        async function convertToInteractive(key) {\n",
              "          const element = document.querySelector('#df-b5f892c7-531b-479c-b5ef-75d87343eee2');\n",
              "          const dataTable =\n",
              "            await google.colab.kernel.invokeFunction('convertToInteractive',\n",
              "                                                     [key], {});\n",
              "          if (!dataTable) return;\n",
              "\n",
              "          const docLinkHtml = 'Like what you see? Visit the ' +\n",
              "            '<a target=\"_blank\" href=https://colab.research.google.com/notebooks/data_table.ipynb>data table notebook</a>'\n",
              "            + ' to learn more about interactive tables.';\n",
              "          element.innerHTML = '';\n",
              "          dataTable['output_type'] = 'display_data';\n",
              "          await google.colab.output.renderOutput(dataTable, element);\n",
              "          const docLink = document.createElement('div');\n",
              "          docLink.innerHTML = docLinkHtml;\n",
              "          element.appendChild(docLink);\n",
              "        }\n",
              "      </script>\n",
              "    </div>\n",
              "  </div>\n",
              "  "
            ]
          },
          "metadata": {},
          "execution_count": 17
        }
      ]
    },
    {
      "cell_type": "markdown",
      "source": [
        "#3.3. Apply **Decision tree, Random forest, kNN, NaïveBayes** to preproceed dataset in the previous steps. Then compare the obtained results using **accuracy, precision, recall, f1** measures."
      ],
      "metadata": {
        "id": "K2Si6d69d1nh"
      }
    },
    {
      "cell_type": "code",
      "source": [
        "#code\n",
        "clf=RandomForestClassifier(n_estimators=100)\n",
        "X= bank.iloc[:,:-1]\n",
        "# X\n",
        "Y= bank.iloc[:, -1]\n",
        "# Y\n",
        "X_train, X_test, y_train, y_test = train_test_split(X, Y, test_size=0.3, train_size=0.7,  random_state = 1)\n",
        "clf.fit(X_train,y_train)\n",
        "y_pred = clf.predict(X_test)\n",
        "sicm=confusion_matrix(y_test, y_pred)\n",
        "rfas=round(accuracy_score(y_test, y_pred),2)\n",
        "rfps=round(precision_score(y_test, y_pred, average='micro'),2)\n",
        "rfrs=round(recall_score(y_test, y_pred, average='micro'),2)\n",
        "rffs=round(f1_score(y_test, y_pred, average='micro'),2)\n",
        "print (\"Confusion Matrix : \\n\", confusion_matrix(y_test, y_pred))\n",
        "print (\"Accuracy : \", accuracy_score(y_test, y_pred))\n",
        "print (\"Precision : \", precision_score(y_test, y_pred, average='micro'))\n",
        "print (\"Recall : \", recall_score(y_test, y_pred, average='micro'))\n",
        "print (\"F1 : \", f1_score(y_test, y_pred, average='micro'))\n",
        "     "
      ],
      "metadata": {
        "id": "Ouil-cf_d8jW",
        "colab": {
          "base_uri": "https://localhost:8080/"
        },
        "outputId": "38ff4df8-df53-418d-b993-645da96f5b93"
      },
      "execution_count": 18,
      "outputs": [
        {
          "output_type": "stream",
          "name": "stdout",
          "text": [
            "Confusion Matrix : \n",
            " [[1448  312]\n",
            " [ 195 1394]]\n",
            "Accuracy :  0.8486115258286056\n",
            "Precision :  0.8486115258286056\n",
            "Recall :  0.8486115258286056\n",
            "F1 :  0.8486115258286056\n"
          ]
        }
      ]
    },
    {
      "cell_type": "markdown",
      "source": [
        "GaussianNB"
      ],
      "metadata": {
        "id": "KfYU-X1PrYp-"
      }
    },
    {
      "cell_type": "code",
      "source": [
        "model = GaussianNB()\n",
        "model.fit(X_train, y_train)\n",
        "y_pred = model.predict(X_test)\n",
        "sicm=confusion_matrix(y_test, y_pred)\n",
        "gaas=round(accuracy_score(y_test, y_pred),2)\n",
        "gaps=round(precision_score(y_test, y_pred, average='micro'),2)\n",
        "gars=round(recall_score(y_test, y_pred, average='micro'),2)\n",
        "gafs=round(f1_score(y_test, y_pred, average='micro'),2)\n",
        "print (\"Confusion Matrix : \\n\", confusion_matrix(y_test, y_pred))\n",
        "print (\"Accuracy : \", accuracy_score(y_test, y_pred))\n",
        "print (\"Precision : \", precision_score(y_test, y_pred, average='micro'))\n",
        "print (\"Recall : \", recall_score(y_test, y_pred, average='micro'))\n",
        "print (\"F1 : \", f1_score(y_test, y_pred, average='micro'))\n",
        "     "
      ],
      "metadata": {
        "colab": {
          "base_uri": "https://localhost:8080/"
        },
        "id": "CS60kMTPraX6",
        "outputId": "ac73721e-1f8a-48b8-a46c-20c825a6695b"
      },
      "execution_count": 19,
      "outputs": [
        {
          "output_type": "stream",
          "name": "stdout",
          "text": [
            "Confusion Matrix : \n",
            " [[1545  215]\n",
            " [ 738  851]]\n",
            "Accuracy :  0.7154374440131382\n",
            "Precision :  0.7154374440131382\n",
            "Recall :  0.7154374440131382\n",
            "F1 :  0.7154374440131384\n"
          ]
        }
      ]
    },
    {
      "cell_type": "markdown",
      "source": [
        "SVM Radial Basis"
      ],
      "metadata": {
        "id": "C8woVW0zriSY"
      }
    },
    {
      "cell_type": "code",
      "source": [
        "clf = svm.SVC(kernel='rbf')\n",
        "#Train the model using the training sets\n",
        "clf.fit(X_train, y_train)\n",
        "#Predict the response for test dataset\n",
        "y_pred = clf.predict(X_test)\n",
        "rbcm=confusion_matrix(y_test, y_pred)\n",
        "rbas=round(accuracy_score(y_test, y_pred),2)\n",
        "rbps=round(precision_score(y_test, y_pred, average='micro'),2)\n",
        "rbrs=round(recall_score(y_test, y_pred, average='micro'),2)\n",
        "rbfs=round(f1_score(y_test, y_pred, average='micro'),2)\n",
        "print (\"Confusion Matrix : \\n\", confusion_matrix(y_test, y_pred))\n",
        "print (\"Accuracy : \", accuracy_score(y_test, y_pred))\n",
        "print (\"Precision : \", precision_score(y_test, y_pred, average='micro'))\n",
        "print (\"Recall : \", recall_score(y_test, y_pred, average='micro'))\n",
        "print (\"F1 : \", f1_score(y_test, y_pred, average='micro'))\n",
        "     "
      ],
      "metadata": {
        "colab": {
          "base_uri": "https://localhost:8080/"
        },
        "id": "wdFx9wulrkNd",
        "outputId": "eae42c55-ebc0-469b-ee7e-18f744955d65"
      },
      "execution_count": 20,
      "outputs": [
        {
          "output_type": "stream",
          "name": "stdout",
          "text": [
            "Confusion Matrix : \n",
            " [[1380  380]\n",
            " [ 548 1041]]\n",
            "Accuracy :  0.7229023589131084\n",
            "Precision :  0.7229023589131084\n",
            "Recall :  0.7229023589131084\n",
            "F1 :  0.7229023589131084\n"
          ]
        }
      ]
    },
    {
      "cell_type": "markdown",
      "source": [
        "Compare"
      ],
      "metadata": {
        "id": "Z0VQYYVyroxK"
      }
    },
    {
      "cell_type": "code",
      "source": [
        "t= PrettyTable(['Liner Kernel', 'Accuracy','Precision','Recall','F1'])\n",
        "t.add_row(['SVM Radial Basis',rbas,rbps,rbrs,rbfs])\n",
        "t.add_row(['GaussianNB',gaas,gaps,gars,gafs])\n",
        "t.add_row(['Random forest',rfas,rfps,rfrs,rffs])\n",
        "print(t) "
      ],
      "metadata": {
        "colab": {
          "base_uri": "https://localhost:8080/"
        },
        "id": "1Trp6FLurqxm",
        "outputId": "b37c31c3-6b2b-4855-a053-56837e41c854"
      },
      "execution_count": 21,
      "outputs": [
        {
          "output_type": "stream",
          "name": "stdout",
          "text": [
            "+------------------+----------+-----------+--------+------+\n",
            "|   Liner Kernel   | Accuracy | Precision | Recall |  F1  |\n",
            "+------------------+----------+-----------+--------+------+\n",
            "| SVM Radial Basis |   0.72   |    0.72   |  0.72  | 0.72 |\n",
            "|    GaussianNB    |   0.72   |    0.72   |  0.72  | 0.72 |\n",
            "|  Random forest   |   0.85   |    0.85   |  0.85  | 0.85 |\n",
            "+------------------+----------+-----------+--------+------+\n"
          ]
        }
      ]
    },
    {
      "cell_type": "markdown",
      "source": [
        "#3.4. Using selection feature to above dataset, then compare the classification results with those in Task 2.3. "
      ],
      "metadata": {
        "id": "SweVRB4meApP"
      }
    },
    {
      "cell_type": "code",
      "source": [
        "#code\n",
        "fs = SelectKBest(score_func=f_classif, k=2)\n",
        "# apply feature selection\n",
        "X_selected = fs.fit_transform(X, Y)\n",
        "Xs_train, Xs_test, ys_train, ys_test = train_test_split(X_selected, Y, test_size=0.3, train_size=0.7,  random_state = 1)\n",
        "clf.fit(Xs_train,ys_train)\n",
        "ys_pred = clf.predict(Xs_test)"
      ],
      "metadata": {
        "id": "seFBhqCSeC7C"
      },
      "execution_count": 22,
      "outputs": []
    },
    {
      "cell_type": "markdown",
      "source": [
        "Random Forest"
      ],
      "metadata": {
        "id": "zChekQZRrxt_"
      }
    },
    {
      "cell_type": "code",
      "source": [
        "sicm=confusion_matrix(ys_test, ys_pred)\n",
        "rfuas=round(accuracy_score(ys_test, ys_pred),2)\n",
        "rfups=round(precision_score(ys_test, ys_pred, average='micro'),2)\n",
        "rfurs=round(recall_score(ys_test, ys_pred, average='micro'),2)\n",
        "rfufs=round(f1_score(ys_test, ys_pred, average='micro'),2)\n",
        "print (\"Confusion Matrix : \\n\", confusion_matrix(ys_test, ys_pred))\n",
        "print (\"Accuracy : \", accuracy_score(ys_test, ys_pred))\n",
        "print (\"Precision : \", precision_score(ys_test, ys_pred, average='micro'))\n",
        "print (\"Recall : \", recall_score(ys_test, ys_pred, average='micro'))\n",
        "print (\"F1 : \", f1_score(ys_test, ys_pred, average='micro'))"
      ],
      "metadata": {
        "colab": {
          "base_uri": "https://localhost:8080/"
        },
        "id": "aj8CBy1Irzq-",
        "outputId": "b0a01cb4-78e7-46d9-cb38-17d0fb86173c"
      },
      "execution_count": 23,
      "outputs": [
        {
          "output_type": "stream",
          "name": "stdout",
          "text": [
            "Confusion Matrix : \n",
            " [[1373  387]\n",
            " [ 546 1043]]\n",
            "Accuracy :  0.7214093759331144\n",
            "Precision :  0.7214093759331144\n",
            "Recall :  0.7214093759331144\n",
            "F1 :  0.7214093759331144\n"
          ]
        }
      ]
    },
    {
      "cell_type": "markdown",
      "source": [
        "GaussianNB"
      ],
      "metadata": {
        "id": "B9gAjtuUr2--"
      }
    },
    {
      "cell_type": "code",
      "source": [
        "model = GaussianNB()\n",
        "model.fit(Xs_train, ys_train)\n",
        "ys_pred = model.predict(Xs_test)\n",
        "sicm=confusion_matrix(ys_test, ys_pred)\n",
        "gauas=round(accuracy_score(ys_test, ys_pred),2)\n",
        "gaups=round(precision_score(ys_test, ys_pred, average='micro'),2)\n",
        "gaurs=round(recall_score(ys_test, ys_pred, average='micro'),2)\n",
        "gaufs=round(f1_score(ys_test, ys_pred, average='micro'),2)\n",
        "print (\"Confusion Matrix : \\n\", confusion_matrix(ys_test, ys_pred))\n",
        "print (\"Accuracy : \", accuracy_score(ys_test, ys_pred))\n",
        "print (\"Precision : \", precision_score(ys_test, ys_pred, average='micro'))\n",
        "print (\"Recall : \", recall_score(ys_test, ys_pred, average='micro'))\n",
        "print (\"F1 : \", f1_score(ys_test, ys_pred, average='micro'))"
      ],
      "metadata": {
        "colab": {
          "base_uri": "https://localhost:8080/"
        },
        "id": "NmO_yWf_r4eP",
        "outputId": "555dc2e4-976e-4723-95c2-92ac33d86db9"
      },
      "execution_count": 24,
      "outputs": [
        {
          "output_type": "stream",
          "name": "stdout",
          "text": [
            "Confusion Matrix : \n",
            " [[1657  103]\n",
            " [ 818  771]]\n",
            "Accuracy :  0.7249925350851\n",
            "Precision :  0.7249925350851\n",
            "Recall :  0.7249925350851\n",
            "F1 :  0.7249925350851001\n"
          ]
        }
      ]
    },
    {
      "cell_type": "markdown",
      "source": [
        "SVM Radial Basis"
      ],
      "metadata": {
        "id": "m-6CGWdFr793"
      }
    },
    {
      "cell_type": "code",
      "source": [
        "clf = svm.SVC(kernel='rbf')\n",
        "#Train the model using the training sets\n",
        "clf.fit(Xs_train, ys_train)\n",
        "#Predict the response for test dataset\n",
        "y_pred = clf.predict(Xs_test)\n",
        "rbcm=confusion_matrix(ys_test, ys_pred)\n",
        "rbuas=round(accuracy_score(ys_test, ys_pred),2)\n",
        "rbups=round(precision_score(ys_test, ys_pred, average='micro'),2)\n",
        "rburs=round(recall_score(ys_test, ys_pred, average='micro'),2)\n",
        "rbufs=round(f1_score(ys_test, ys_pred, average='micro'),2)\n",
        "print (\"Confusion Matrix : \\n\", confusion_matrix(ys_test, ys_pred))\n",
        "print (\"Accuracy : \", accuracy_score(ys_test, ys_pred))\n",
        "print (\"Precision : \", precision_score(ys_test, ys_pred, average='micro'))\n",
        "print (\"Recall : \", recall_score(ys_test, ys_pred, average='micro'))\n",
        "print (\"F1 : \", f1_score(ys_test, ys_pred, average='micro'))"
      ],
      "metadata": {
        "colab": {
          "base_uri": "https://localhost:8080/"
        },
        "id": "pFyBqL4Gr7If",
        "outputId": "0d38384b-5c53-4b65-e9a8-735587d5c6ba"
      },
      "execution_count": 25,
      "outputs": [
        {
          "output_type": "stream",
          "name": "stdout",
          "text": [
            "Confusion Matrix : \n",
            " [[1657  103]\n",
            " [ 818  771]]\n",
            "Accuracy :  0.7249925350851\n",
            "Precision :  0.7249925350851\n",
            "Recall :  0.7249925350851\n",
            "F1 :  0.7249925350851001\n"
          ]
        }
      ]
    },
    {
      "cell_type": "markdown",
      "source": [
        "Compare"
      ],
      "metadata": {
        "id": "1BFTO-tJsB6d"
      }
    },
    {
      "cell_type": "code",
      "source": [
        "t= PrettyTable(['Algorithm','Using selection feature', 'Accuracy','Precision','Recall','F1'])\n",
        "t.add_row(['Random Forest','false',rfas,rfps,rfrs,rffs])\n",
        "t.add_row(['Random Forest','true',rfuas,rfups,rfurs,rfufs])\n",
        "t.add_row(['GaussianNB','false',gaas,gaps,gars,gafs])\n",
        "t.add_row(['GaussianNB','true',gauas,gaups,gaurs,gaufs])\n",
        "t.add_row(['SVM Radial Basis','false',rbas,rbps,rbrs,rbfs])\n",
        "t.add_row(['SVM Radial Basis','true',rbuas,rbups,rburs,rbufs])\n",
        "print(t)\n",
        "     "
      ],
      "metadata": {
        "colab": {
          "base_uri": "https://localhost:8080/"
        },
        "id": "IWb9f39ZsDft",
        "outputId": "d8b55777-fdb3-4e9d-db1b-07d537b12fe8"
      },
      "execution_count": 26,
      "outputs": [
        {
          "output_type": "stream",
          "name": "stdout",
          "text": [
            "+------------------+-------------------------+----------+-----------+--------+------+\n",
            "|    Algorithm     | Using selection feature | Accuracy | Precision | Recall |  F1  |\n",
            "+------------------+-------------------------+----------+-----------+--------+------+\n",
            "|  Random Forest   |          false          |   0.85   |    0.85   |  0.85  | 0.85 |\n",
            "|  Random Forest   |           true          |   0.72   |    0.72   |  0.72  | 0.72 |\n",
            "|    GaussianNB    |          false          |   0.72   |    0.72   |  0.72  | 0.72 |\n",
            "|    GaussianNB    |           true          |   0.72   |    0.72   |  0.72  | 0.72 |\n",
            "| SVM Radial Basis |          false          |   0.72   |    0.72   |  0.72  | 0.72 |\n",
            "| SVM Radial Basis |           true          |   0.72   |    0.72   |  0.72  | 0.72 |\n",
            "+------------------+-------------------------+----------+-----------+--------+------+\n"
          ]
        }
      ]
    },
    {
      "cell_type": "markdown",
      "source": [
        "#Task 4. \n",
        "For a given dataset in the Lab #5 (**credit card dataset**), perform feature selection and thencompare the performance of selected classification algorithms (Decision Tree, kNN, Logistic Regression, SVM, Random Forest and NaiveBayes) based on accuracy, precision, recall, f1 measures.\n"
      ],
      "metadata": {
        "id": "Z5pp7_h-aP2u"
      }
    },
    {
      "cell_type": "code",
      "source": [
        "# code\n",
        "creditcard= pd.read_csv('creditcard.csv')\n",
        "creditcard"
      ],
      "metadata": {
        "id": "Rw_-8FIf2KxW",
        "colab": {
          "base_uri": "https://localhost:8080/",
          "height": 487
        },
        "outputId": "d2b0dd41-0240-4611-ff69-953540a12865"
      },
      "execution_count": 27,
      "outputs": [
        {
          "output_type": "execute_result",
          "data": {
            "text/plain": [
              "            Time         V1         V2        V3        V4        V5  \\\n",
              "0            0.0  -1.359807  -0.072781  2.536347  1.378155 -0.338321   \n",
              "1            0.0   1.191857   0.266151  0.166480  0.448154  0.060018   \n",
              "2            1.0  -1.358354  -1.340163  1.773209  0.379780 -0.503198   \n",
              "3            1.0  -0.966272  -0.185226  1.792993 -0.863291 -0.010309   \n",
              "4            2.0  -1.158233   0.877737  1.548718  0.403034 -0.407193   \n",
              "...          ...        ...        ...       ...       ...       ...   \n",
              "284802  172786.0 -11.881118  10.071785 -9.834783 -2.066656 -5.364473   \n",
              "284803  172787.0  -0.732789  -0.055080  2.035030 -0.738589  0.868229   \n",
              "284804  172788.0   1.919565  -0.301254 -3.249640 -0.557828  2.630515   \n",
              "284805  172788.0  -0.240440   0.530483  0.702510  0.689799 -0.377961   \n",
              "284806  172792.0  -0.533413  -0.189733  0.703337 -0.506271 -0.012546   \n",
              "\n",
              "              V6        V7        V8        V9  ...       V21       V22  \\\n",
              "0       0.462388  0.239599  0.098698  0.363787  ... -0.018307  0.277838   \n",
              "1      -0.082361 -0.078803  0.085102 -0.255425  ... -0.225775 -0.638672   \n",
              "2       1.800499  0.791461  0.247676 -1.514654  ...  0.247998  0.771679   \n",
              "3       1.247203  0.237609  0.377436 -1.387024  ... -0.108300  0.005274   \n",
              "4       0.095921  0.592941 -0.270533  0.817739  ... -0.009431  0.798278   \n",
              "...          ...       ...       ...       ...  ...       ...       ...   \n",
              "284802 -2.606837 -4.918215  7.305334  1.914428  ...  0.213454  0.111864   \n",
              "284803  1.058415  0.024330  0.294869  0.584800  ...  0.214205  0.924384   \n",
              "284804  3.031260 -0.296827  0.708417  0.432454  ...  0.232045  0.578229   \n",
              "284805  0.623708 -0.686180  0.679145  0.392087  ...  0.265245  0.800049   \n",
              "284806 -0.649617  1.577006 -0.414650  0.486180  ...  0.261057  0.643078   \n",
              "\n",
              "             V23       V24       V25       V26       V27       V28  Amount  \\\n",
              "0      -0.110474  0.066928  0.128539 -0.189115  0.133558 -0.021053  149.62   \n",
              "1       0.101288 -0.339846  0.167170  0.125895 -0.008983  0.014724    2.69   \n",
              "2       0.909412 -0.689281 -0.327642 -0.139097 -0.055353 -0.059752  378.66   \n",
              "3      -0.190321 -1.175575  0.647376 -0.221929  0.062723  0.061458  123.50   \n",
              "4      -0.137458  0.141267 -0.206010  0.502292  0.219422  0.215153   69.99   \n",
              "...          ...       ...       ...       ...       ...       ...     ...   \n",
              "284802  1.014480 -0.509348  1.436807  0.250034  0.943651  0.823731    0.77   \n",
              "284803  0.012463 -1.016226 -0.606624 -0.395255  0.068472 -0.053527   24.79   \n",
              "284804 -0.037501  0.640134  0.265745 -0.087371  0.004455 -0.026561   67.88   \n",
              "284805 -0.163298  0.123205 -0.569159  0.546668  0.108821  0.104533   10.00   \n",
              "284806  0.376777  0.008797 -0.473649 -0.818267 -0.002415  0.013649  217.00   \n",
              "\n",
              "        Class  \n",
              "0           0  \n",
              "1           0  \n",
              "2           0  \n",
              "3           0  \n",
              "4           0  \n",
              "...       ...  \n",
              "284802      0  \n",
              "284803      0  \n",
              "284804      0  \n",
              "284805      0  \n",
              "284806      0  \n",
              "\n",
              "[284807 rows x 31 columns]"
            ],
            "text/html": [
              "\n",
              "  <div id=\"df-c04d9af6-0ce9-43f9-b4dc-46dc97ad54c5\">\n",
              "    <div class=\"colab-df-container\">\n",
              "      <div>\n",
              "<style scoped>\n",
              "    .dataframe tbody tr th:only-of-type {\n",
              "        vertical-align: middle;\n",
              "    }\n",
              "\n",
              "    .dataframe tbody tr th {\n",
              "        vertical-align: top;\n",
              "    }\n",
              "\n",
              "    .dataframe thead th {\n",
              "        text-align: right;\n",
              "    }\n",
              "</style>\n",
              "<table border=\"1\" class=\"dataframe\">\n",
              "  <thead>\n",
              "    <tr style=\"text-align: right;\">\n",
              "      <th></th>\n",
              "      <th>Time</th>\n",
              "      <th>V1</th>\n",
              "      <th>V2</th>\n",
              "      <th>V3</th>\n",
              "      <th>V4</th>\n",
              "      <th>V5</th>\n",
              "      <th>V6</th>\n",
              "      <th>V7</th>\n",
              "      <th>V8</th>\n",
              "      <th>V9</th>\n",
              "      <th>...</th>\n",
              "      <th>V21</th>\n",
              "      <th>V22</th>\n",
              "      <th>V23</th>\n",
              "      <th>V24</th>\n",
              "      <th>V25</th>\n",
              "      <th>V26</th>\n",
              "      <th>V27</th>\n",
              "      <th>V28</th>\n",
              "      <th>Amount</th>\n",
              "      <th>Class</th>\n",
              "    </tr>\n",
              "  </thead>\n",
              "  <tbody>\n",
              "    <tr>\n",
              "      <th>0</th>\n",
              "      <td>0.0</td>\n",
              "      <td>-1.359807</td>\n",
              "      <td>-0.072781</td>\n",
              "      <td>2.536347</td>\n",
              "      <td>1.378155</td>\n",
              "      <td>-0.338321</td>\n",
              "      <td>0.462388</td>\n",
              "      <td>0.239599</td>\n",
              "      <td>0.098698</td>\n",
              "      <td>0.363787</td>\n",
              "      <td>...</td>\n",
              "      <td>-0.018307</td>\n",
              "      <td>0.277838</td>\n",
              "      <td>-0.110474</td>\n",
              "      <td>0.066928</td>\n",
              "      <td>0.128539</td>\n",
              "      <td>-0.189115</td>\n",
              "      <td>0.133558</td>\n",
              "      <td>-0.021053</td>\n",
              "      <td>149.62</td>\n",
              "      <td>0</td>\n",
              "    </tr>\n",
              "    <tr>\n",
              "      <th>1</th>\n",
              "      <td>0.0</td>\n",
              "      <td>1.191857</td>\n",
              "      <td>0.266151</td>\n",
              "      <td>0.166480</td>\n",
              "      <td>0.448154</td>\n",
              "      <td>0.060018</td>\n",
              "      <td>-0.082361</td>\n",
              "      <td>-0.078803</td>\n",
              "      <td>0.085102</td>\n",
              "      <td>-0.255425</td>\n",
              "      <td>...</td>\n",
              "      <td>-0.225775</td>\n",
              "      <td>-0.638672</td>\n",
              "      <td>0.101288</td>\n",
              "      <td>-0.339846</td>\n",
              "      <td>0.167170</td>\n",
              "      <td>0.125895</td>\n",
              "      <td>-0.008983</td>\n",
              "      <td>0.014724</td>\n",
              "      <td>2.69</td>\n",
              "      <td>0</td>\n",
              "    </tr>\n",
              "    <tr>\n",
              "      <th>2</th>\n",
              "      <td>1.0</td>\n",
              "      <td>-1.358354</td>\n",
              "      <td>-1.340163</td>\n",
              "      <td>1.773209</td>\n",
              "      <td>0.379780</td>\n",
              "      <td>-0.503198</td>\n",
              "      <td>1.800499</td>\n",
              "      <td>0.791461</td>\n",
              "      <td>0.247676</td>\n",
              "      <td>-1.514654</td>\n",
              "      <td>...</td>\n",
              "      <td>0.247998</td>\n",
              "      <td>0.771679</td>\n",
              "      <td>0.909412</td>\n",
              "      <td>-0.689281</td>\n",
              "      <td>-0.327642</td>\n",
              "      <td>-0.139097</td>\n",
              "      <td>-0.055353</td>\n",
              "      <td>-0.059752</td>\n",
              "      <td>378.66</td>\n",
              "      <td>0</td>\n",
              "    </tr>\n",
              "    <tr>\n",
              "      <th>3</th>\n",
              "      <td>1.0</td>\n",
              "      <td>-0.966272</td>\n",
              "      <td>-0.185226</td>\n",
              "      <td>1.792993</td>\n",
              "      <td>-0.863291</td>\n",
              "      <td>-0.010309</td>\n",
              "      <td>1.247203</td>\n",
              "      <td>0.237609</td>\n",
              "      <td>0.377436</td>\n",
              "      <td>-1.387024</td>\n",
              "      <td>...</td>\n",
              "      <td>-0.108300</td>\n",
              "      <td>0.005274</td>\n",
              "      <td>-0.190321</td>\n",
              "      <td>-1.175575</td>\n",
              "      <td>0.647376</td>\n",
              "      <td>-0.221929</td>\n",
              "      <td>0.062723</td>\n",
              "      <td>0.061458</td>\n",
              "      <td>123.50</td>\n",
              "      <td>0</td>\n",
              "    </tr>\n",
              "    <tr>\n",
              "      <th>4</th>\n",
              "      <td>2.0</td>\n",
              "      <td>-1.158233</td>\n",
              "      <td>0.877737</td>\n",
              "      <td>1.548718</td>\n",
              "      <td>0.403034</td>\n",
              "      <td>-0.407193</td>\n",
              "      <td>0.095921</td>\n",
              "      <td>0.592941</td>\n",
              "      <td>-0.270533</td>\n",
              "      <td>0.817739</td>\n",
              "      <td>...</td>\n",
              "      <td>-0.009431</td>\n",
              "      <td>0.798278</td>\n",
              "      <td>-0.137458</td>\n",
              "      <td>0.141267</td>\n",
              "      <td>-0.206010</td>\n",
              "      <td>0.502292</td>\n",
              "      <td>0.219422</td>\n",
              "      <td>0.215153</td>\n",
              "      <td>69.99</td>\n",
              "      <td>0</td>\n",
              "    </tr>\n",
              "    <tr>\n",
              "      <th>...</th>\n",
              "      <td>...</td>\n",
              "      <td>...</td>\n",
              "      <td>...</td>\n",
              "      <td>...</td>\n",
              "      <td>...</td>\n",
              "      <td>...</td>\n",
              "      <td>...</td>\n",
              "      <td>...</td>\n",
              "      <td>...</td>\n",
              "      <td>...</td>\n",
              "      <td>...</td>\n",
              "      <td>...</td>\n",
              "      <td>...</td>\n",
              "      <td>...</td>\n",
              "      <td>...</td>\n",
              "      <td>...</td>\n",
              "      <td>...</td>\n",
              "      <td>...</td>\n",
              "      <td>...</td>\n",
              "      <td>...</td>\n",
              "      <td>...</td>\n",
              "    </tr>\n",
              "    <tr>\n",
              "      <th>284802</th>\n",
              "      <td>172786.0</td>\n",
              "      <td>-11.881118</td>\n",
              "      <td>10.071785</td>\n",
              "      <td>-9.834783</td>\n",
              "      <td>-2.066656</td>\n",
              "      <td>-5.364473</td>\n",
              "      <td>-2.606837</td>\n",
              "      <td>-4.918215</td>\n",
              "      <td>7.305334</td>\n",
              "      <td>1.914428</td>\n",
              "      <td>...</td>\n",
              "      <td>0.213454</td>\n",
              "      <td>0.111864</td>\n",
              "      <td>1.014480</td>\n",
              "      <td>-0.509348</td>\n",
              "      <td>1.436807</td>\n",
              "      <td>0.250034</td>\n",
              "      <td>0.943651</td>\n",
              "      <td>0.823731</td>\n",
              "      <td>0.77</td>\n",
              "      <td>0</td>\n",
              "    </tr>\n",
              "    <tr>\n",
              "      <th>284803</th>\n",
              "      <td>172787.0</td>\n",
              "      <td>-0.732789</td>\n",
              "      <td>-0.055080</td>\n",
              "      <td>2.035030</td>\n",
              "      <td>-0.738589</td>\n",
              "      <td>0.868229</td>\n",
              "      <td>1.058415</td>\n",
              "      <td>0.024330</td>\n",
              "      <td>0.294869</td>\n",
              "      <td>0.584800</td>\n",
              "      <td>...</td>\n",
              "      <td>0.214205</td>\n",
              "      <td>0.924384</td>\n",
              "      <td>0.012463</td>\n",
              "      <td>-1.016226</td>\n",
              "      <td>-0.606624</td>\n",
              "      <td>-0.395255</td>\n",
              "      <td>0.068472</td>\n",
              "      <td>-0.053527</td>\n",
              "      <td>24.79</td>\n",
              "      <td>0</td>\n",
              "    </tr>\n",
              "    <tr>\n",
              "      <th>284804</th>\n",
              "      <td>172788.0</td>\n",
              "      <td>1.919565</td>\n",
              "      <td>-0.301254</td>\n",
              "      <td>-3.249640</td>\n",
              "      <td>-0.557828</td>\n",
              "      <td>2.630515</td>\n",
              "      <td>3.031260</td>\n",
              "      <td>-0.296827</td>\n",
              "      <td>0.708417</td>\n",
              "      <td>0.432454</td>\n",
              "      <td>...</td>\n",
              "      <td>0.232045</td>\n",
              "      <td>0.578229</td>\n",
              "      <td>-0.037501</td>\n",
              "      <td>0.640134</td>\n",
              "      <td>0.265745</td>\n",
              "      <td>-0.087371</td>\n",
              "      <td>0.004455</td>\n",
              "      <td>-0.026561</td>\n",
              "      <td>67.88</td>\n",
              "      <td>0</td>\n",
              "    </tr>\n",
              "    <tr>\n",
              "      <th>284805</th>\n",
              "      <td>172788.0</td>\n",
              "      <td>-0.240440</td>\n",
              "      <td>0.530483</td>\n",
              "      <td>0.702510</td>\n",
              "      <td>0.689799</td>\n",
              "      <td>-0.377961</td>\n",
              "      <td>0.623708</td>\n",
              "      <td>-0.686180</td>\n",
              "      <td>0.679145</td>\n",
              "      <td>0.392087</td>\n",
              "      <td>...</td>\n",
              "      <td>0.265245</td>\n",
              "      <td>0.800049</td>\n",
              "      <td>-0.163298</td>\n",
              "      <td>0.123205</td>\n",
              "      <td>-0.569159</td>\n",
              "      <td>0.546668</td>\n",
              "      <td>0.108821</td>\n",
              "      <td>0.104533</td>\n",
              "      <td>10.00</td>\n",
              "      <td>0</td>\n",
              "    </tr>\n",
              "    <tr>\n",
              "      <th>284806</th>\n",
              "      <td>172792.0</td>\n",
              "      <td>-0.533413</td>\n",
              "      <td>-0.189733</td>\n",
              "      <td>0.703337</td>\n",
              "      <td>-0.506271</td>\n",
              "      <td>-0.012546</td>\n",
              "      <td>-0.649617</td>\n",
              "      <td>1.577006</td>\n",
              "      <td>-0.414650</td>\n",
              "      <td>0.486180</td>\n",
              "      <td>...</td>\n",
              "      <td>0.261057</td>\n",
              "      <td>0.643078</td>\n",
              "      <td>0.376777</td>\n",
              "      <td>0.008797</td>\n",
              "      <td>-0.473649</td>\n",
              "      <td>-0.818267</td>\n",
              "      <td>-0.002415</td>\n",
              "      <td>0.013649</td>\n",
              "      <td>217.00</td>\n",
              "      <td>0</td>\n",
              "    </tr>\n",
              "  </tbody>\n",
              "</table>\n",
              "<p>284807 rows × 31 columns</p>\n",
              "</div>\n",
              "      <button class=\"colab-df-convert\" onclick=\"convertToInteractive('df-c04d9af6-0ce9-43f9-b4dc-46dc97ad54c5')\"\n",
              "              title=\"Convert this dataframe to an interactive table.\"\n",
              "              style=\"display:none;\">\n",
              "        \n",
              "  <svg xmlns=\"http://www.w3.org/2000/svg\" height=\"24px\"viewBox=\"0 0 24 24\"\n",
              "       width=\"24px\">\n",
              "    <path d=\"M0 0h24v24H0V0z\" fill=\"none\"/>\n",
              "    <path d=\"M18.56 5.44l.94 2.06.94-2.06 2.06-.94-2.06-.94-.94-2.06-.94 2.06-2.06.94zm-11 1L8.5 8.5l.94-2.06 2.06-.94-2.06-.94L8.5 2.5l-.94 2.06-2.06.94zm10 10l.94 2.06.94-2.06 2.06-.94-2.06-.94-.94-2.06-.94 2.06-2.06.94z\"/><path d=\"M17.41 7.96l-1.37-1.37c-.4-.4-.92-.59-1.43-.59-.52 0-1.04.2-1.43.59L10.3 9.45l-7.72 7.72c-.78.78-.78 2.05 0 2.83L4 21.41c.39.39.9.59 1.41.59.51 0 1.02-.2 1.41-.59l7.78-7.78 2.81-2.81c.8-.78.8-2.07 0-2.86zM5.41 20L4 18.59l7.72-7.72 1.47 1.35L5.41 20z\"/>\n",
              "  </svg>\n",
              "      </button>\n",
              "      \n",
              "  <style>\n",
              "    .colab-df-container {\n",
              "      display:flex;\n",
              "      flex-wrap:wrap;\n",
              "      gap: 12px;\n",
              "    }\n",
              "\n",
              "    .colab-df-convert {\n",
              "      background-color: #E8F0FE;\n",
              "      border: none;\n",
              "      border-radius: 50%;\n",
              "      cursor: pointer;\n",
              "      display: none;\n",
              "      fill: #1967D2;\n",
              "      height: 32px;\n",
              "      padding: 0 0 0 0;\n",
              "      width: 32px;\n",
              "    }\n",
              "\n",
              "    .colab-df-convert:hover {\n",
              "      background-color: #E2EBFA;\n",
              "      box-shadow: 0px 1px 2px rgba(60, 64, 67, 0.3), 0px 1px 3px 1px rgba(60, 64, 67, 0.15);\n",
              "      fill: #174EA6;\n",
              "    }\n",
              "\n",
              "    [theme=dark] .colab-df-convert {\n",
              "      background-color: #3B4455;\n",
              "      fill: #D2E3FC;\n",
              "    }\n",
              "\n",
              "    [theme=dark] .colab-df-convert:hover {\n",
              "      background-color: #434B5C;\n",
              "      box-shadow: 0px 1px 3px 1px rgba(0, 0, 0, 0.15);\n",
              "      filter: drop-shadow(0px 1px 2px rgba(0, 0, 0, 0.3));\n",
              "      fill: #FFFFFF;\n",
              "    }\n",
              "  </style>\n",
              "\n",
              "      <script>\n",
              "        const buttonEl =\n",
              "          document.querySelector('#df-c04d9af6-0ce9-43f9-b4dc-46dc97ad54c5 button.colab-df-convert');\n",
              "        buttonEl.style.display =\n",
              "          google.colab.kernel.accessAllowed ? 'block' : 'none';\n",
              "\n",
              "        async function convertToInteractive(key) {\n",
              "          const element = document.querySelector('#df-c04d9af6-0ce9-43f9-b4dc-46dc97ad54c5');\n",
              "          const dataTable =\n",
              "            await google.colab.kernel.invokeFunction('convertToInteractive',\n",
              "                                                     [key], {});\n",
              "          if (!dataTable) return;\n",
              "\n",
              "          const docLinkHtml = 'Like what you see? Visit the ' +\n",
              "            '<a target=\"_blank\" href=https://colab.research.google.com/notebooks/data_table.ipynb>data table notebook</a>'\n",
              "            + ' to learn more about interactive tables.';\n",
              "          element.innerHTML = '';\n",
              "          dataTable['output_type'] = 'display_data';\n",
              "          await google.colab.output.renderOutput(dataTable, element);\n",
              "          const docLink = document.createElement('div');\n",
              "          docLink.innerHTML = docLinkHtml;\n",
              "          element.appendChild(docLink);\n",
              "        }\n",
              "      </script>\n",
              "    </div>\n",
              "  </div>\n",
              "  "
            ]
          },
          "metadata": {},
          "execution_count": 27
        }
      ]
    },
    {
      "cell_type": "markdown",
      "source": [
        "Random Forest"
      ],
      "metadata": {
        "id": "hMc88n3isLl3"
      }
    },
    {
      "cell_type": "code",
      "source": [
        "clf=RandomForestClassifier(n_estimators=100)\n",
        "X= data.iloc[1:50000, 1:-1]\n",
        "Y= data.iloc[1:50000, -1]\n",
        "X_train, X_test, y_train, y_test = train_test_split(X, Y, test_size=0.3, train_size=0.7,  random_state = 1)\n",
        "clf.fit(X_train,y_train)\n",
        "y_pred = clf.predict(X_test)\n",
        "sicm=confusion_matrix(y_test, y_pred)\n",
        "rfas=round(accuracy_score(y_test, y_pred),2)\n",
        "rfps=round(precision_score(y_test, y_pred, average='micro'),2)\n",
        "rfrs=round(recall_score(y_test, y_pred, average='micro'),2)\n",
        "rffs=round(f1_score(y_test, y_pred, average='micro'),2)\n",
        "print (\"Confusion Matrix : \\n\", confusion_matrix(y_test, y_pred))\n",
        "print (\"Accuracy : \", accuracy_score(y_test, y_pred))\n",
        "print (\"Precision : \", precision_score(y_test, y_pred, average='micro'))\n",
        "print (\"Recall : \", recall_score(y_test, y_pred, average='micro'))\n",
        "print (\"F1 : \", f1_score(y_test, y_pred, average='micro'))\n",
        "     "
      ],
      "metadata": {
        "colab": {
          "base_uri": "https://localhost:8080/"
        },
        "id": "ke8AxFr2sNPv",
        "outputId": "45d9f482-d442-4062-d475-720e15f25afc"
      },
      "execution_count": 28,
      "outputs": [
        {
          "output_type": "stream",
          "name": "stdout",
          "text": [
            "Confusion Matrix : \n",
            " [[2491    0    0    0    0    0    0    0    0    0    0    0    0    0\n",
            "     0    0    0    0    0    0    0    0    0    0]\n",
            " [   0  128   91   26   11    5    7    3    1    0    0    0    0    0\n",
            "     2    0    1    0    0    0    0    0    1    0]\n",
            " [   0  101   56   22    5    5    2    3    2    0    0    1    0    0\n",
            "     0    0    0    1    0    0    0    0    0    0]\n",
            " [   0   66   43   15    5    6    3    0    2    0    0    0    0    0\n",
            "     0    0    1    0    0    0    0    0    0    0]\n",
            " [   0   34   20    6    4    3    2    0    1    0    1    1    0    0\n",
            "     0    0    0    0    0    0    0    0    0    0]\n",
            " [   0   15   15    7    4    0    2    0    0    0    0    0    0    0\n",
            "     0    0    0    0    0    0    0    0    0    0]\n",
            " [   0    9   12    6    0    3    0    0    0    1    0    0    0    1\n",
            "     0    0    0    0    0    0    0    0    0    0]\n",
            " [   0   11   10    3    0    2    1    0    0    0    0    0    0    0\n",
            "     0    0    0    0    0    0    0    0    0    0]\n",
            " [   0    9    3    3    0    0    0    0    0    0    0    0    0    0\n",
            "     0    0    0    0    0    0    0    0    0    0]\n",
            " [   0    7    3    0    0    1    1    0    0    0    0    0    0    0\n",
            "     0    0    0    0    0    0    0    0    0    0]\n",
            " [   0    4    5    1    1    0    0    0    1    0    0    0    0    0\n",
            "     0    0    0    0    0    0    0    0    0    0]\n",
            " [   0    2    3    0    2    0    1    0    0    0    1    0    0    0\n",
            "     1    0    0    0    0    0    0    0    0    0]\n",
            " [   0    2    0    0    2    0    0    0    0    0    0    0    0    0\n",
            "     0    0    0    0    0    0    0    0    0    0]\n",
            " [   0    2    0    0    1    0    0    0    0    0    0    0    0    0\n",
            "     0    0    0    0    0    0    0    0    0    0]\n",
            " [   0    1    1    0    0    0    0    0    0    0    0    0    0    0\n",
            "     0    0    0    0    0    0    0    0    0    0]\n",
            " [   0    2    0    0    0    0    0    0    0    1    0    0    0    0\n",
            "     0    0    0    0    0    0    0    0    0    0]\n",
            " [   0    0    1    0    0    0    1    0    0    0    0    0    0    0\n",
            "     0    0    0    0    0    0    0    0    0    0]\n",
            " [   0    0    1    0    0    0    0    0    0    0    0    0    0    0\n",
            "     0    0    0    0    0    0    0    0    0    0]\n",
            " [   0    0    1    0    0    0    0    0    0    0    0    0    0    0\n",
            "     0    0    0    0    0    0    0    0    0    0]\n",
            " [   0    0    1    0    0    0    0    0    0    0    0    0    0    0\n",
            "     0    0    0    0    0    0    0    0    0    0]\n",
            " [   0    1    0    0    0    0    0    0    0    0    0    0    0    0\n",
            "     0    0    0    0    0    0    0    0    0    0]\n",
            " [   0    0    1    0    0    0    0    0    0    0    0    0    0    0\n",
            "     0    0    0    0    0    0    0    0    0    0]\n",
            " [   0    0    0    0    0    0    0    0    0    0    0    0    0    0\n",
            "     0    0    0    0    0    0    0    0    0    0]\n",
            " [   0    0    1    0    0    0    0    0    0    0    0    0    0    0\n",
            "     0    0    0    0    0    0    0    0    0    0]]\n",
            "Accuracy :  0.8044192296207823\n",
            "Precision :  0.8044192296207823\n",
            "Recall :  0.8044192296207823\n",
            "F1 :  0.8044192296207823\n"
          ]
        }
      ]
    },
    {
      "cell_type": "markdown",
      "source": [
        "GaussianNB"
      ],
      "metadata": {
        "id": "mawtFYpasQ8X"
      }
    },
    {
      "cell_type": "code",
      "source": [
        "model = GaussianNB()\n",
        "model.fit(X_train, y_train)\n",
        "y_pred = model.predict(X_test)\n",
        "sicm=confusion_matrix(y_test, y_pred)\n",
        "gaas=round(accuracy_score(y_test, y_pred),2)\n",
        "gaps=round(precision_score(y_test, y_pred, average='micro'),2)\n",
        "gars=round(recall_score(y_test, y_pred, average='micro'),2)\n",
        "gafs=round(f1_score(y_test, y_pred, average='micro'),2)\n",
        "print (\"Confusion Matrix : \\n\", confusion_matrix(y_test, y_pred))\n",
        "print (\"Accuracy : \", accuracy_score(y_test, y_pred))\n",
        "print (\"Precision : \", precision_score(y_test, y_pred, average='micro'))\n",
        "print (\"Recall : \", recall_score(y_test, y_pred, average='micro'))\n",
        "print (\"F1 : \", f1_score(y_test, y_pred, average='micro'))"
      ],
      "metadata": {
        "colab": {
          "base_uri": "https://localhost:8080/"
        },
        "id": "PJIo808BsS4f",
        "outputId": "c9933f57-9fe9-4b46-8e7b-fadd61d38cb7"
      },
      "execution_count": 29,
      "outputs": [
        {
          "output_type": "stream",
          "name": "stdout",
          "text": [
            "Confusion Matrix : \n",
            " [[2481    0    0   10    0    0    0    0    0    0    0    0    0    0\n",
            "     0    0    0    0    0    0    0    0    0    0    0]\n",
            " [   0  204   53   11    3    0    3    0    0    0    0    0    0    0\n",
            "     0    0    1    0    0    0    0    1    0    0    0]\n",
            " [   0  145   39    8    1    0    4    0    0    0    0    0    0    0\n",
            "     0    0    1    0    0    0    0    0    0    0    0]\n",
            " [   0   92   45    1    2    0    1    0    0    0    0    0    0    0\n",
            "     0    0    0    0    0    0    0    0    0    0    0]\n",
            " [   0   43   23    2    1    0    2    0    0    0    0    0    0    0\n",
            "     0    0    1    0    0    0    0    0    0    0    0]\n",
            " [   0   21   15    2    2    0    3    0    0    0    0    0    0    0\n",
            "     0    0    0    0    0    0    0    0    0    0    0]\n",
            " [   0   18    8    3    0    0    3    0    0    0    0    0    0    0\n",
            "     0    0    0    0    0    0    0    0    0    0    0]\n",
            " [   0    9   12    3    3    0    0    0    0    0    0    0    0    0\n",
            "     0    0    0    0    0    0    0    0    0    0    0]\n",
            " [   0    8    7    0    0    0    0    0    0    0    0    0    0    0\n",
            "     0    0    0    0    0    0    0    0    0    0    0]\n",
            " [   0    6    4    1    0    0    1    0    0    0    0    0    0    0\n",
            "     0    0    0    0    0    0    0    0    0    0    0]\n",
            " [   0    7    4    0    0    0    1    0    0    0    0    0    0    0\n",
            "     0    0    0    0    0    0    0    0    0    0    0]\n",
            " [   0    4    4    0    0    0    1    0    0    0    0    0    0    0\n",
            "     0    0    0    0    0    0    0    1    0    0    0]\n",
            " [   0    1    2    0    0    0    1    0    0    0    0    0    0    0\n",
            "     0    0    0    0    0    0    0    0    0    0    0]\n",
            " [   0    2    1    0    0    0    0    0    0    0    0    0    0    0\n",
            "     0    0    0    0    0    0    0    0    0    0    0]\n",
            " [   0    2    0    0    0    0    0    0    0    0    0    0    0    0\n",
            "     0    0    0    0    0    0    0    0    0    0    0]\n",
            " [   0    2    0    0    0    0    1    0    0    0    0    0    0    0\n",
            "     0    0    0    0    0    0    0    0    0    0    0]\n",
            " [   0    0    0    0    0    0    0    0    0    0    0    0    0    0\n",
            "     0    0    0    0    0    0    0    0    0    0    0]\n",
            " [   0    1    0    0    0    0    1    0    0    0    0    0    0    0\n",
            "     0    0    0    0    0    0    0    0    0    0    0]\n",
            " [   0    0    0    0    0    0    1    0    0    0    0    0    0    0\n",
            "     0    0    0    0    0    0    0    0    0    0    0]\n",
            " [   0    1    0    0    0    0    0    0    0    0    0    0    0    0\n",
            "     0    0    0    0    0    0    0    0    0    0    0]\n",
            " [   0    1    0    0    0    0    0    0    0    0    0    0    0    0\n",
            "     0    0    0    0    0    0    0    0    0    0    0]\n",
            " [   0    0    0    0    0    0    0    0    0    0    0    0    0    0\n",
            "     0    0    0    0    0    0    0    0    0    0    0]\n",
            " [   0    1    0    0    0    0    0    0    0    0    0    0    0    0\n",
            "     0    0    0    0    0    0    0    0    0    0    0]\n",
            " [   0    1    0    0    0    0    0    0    0    0    0    0    0    0\n",
            "     0    0    0    0    0    0    0    0    0    0    0]\n",
            " [   0    1    0    0    0    0    0    0    0    0    0    0    0    0\n",
            "     0    0    0    0    0    0    0    0    0    0    0]]\n",
            "Accuracy :  0.8148701104807405\n",
            "Precision :  0.8148701104807405\n",
            "Recall :  0.8148701104807405\n",
            "F1 :  0.8148701104807405\n"
          ]
        }
      ]
    },
    {
      "cell_type": "markdown",
      "source": [
        "SVM Radial Basis"
      ],
      "metadata": {
        "id": "FLsXVA4asWOj"
      }
    },
    {
      "cell_type": "code",
      "source": [
        "clf = svm.SVC(kernel='rbf')\n",
        "#Train the model using the training sets\n",
        "clf.fit(X_train, y_train)\n",
        "#Predict the response for test dataset\n",
        "y_pred = clf.predict(X_test)\n",
        "rbcm=confusion_matrix(y_test, y_pred)\n",
        "rbas=round(accuracy_score(y_test, y_pred),2)\n",
        "rbps=round(precision_score(y_test, y_pred, average='micro'),2)\n",
        "rbrs=round(recall_score(y_test, y_pred, average='micro'),2)\n",
        "rbfs=round(f1_score(y_test, y_pred, average='micro'),2)\n",
        "print (\"Confusion Matrix : \\n\", confusion_matrix(y_test, y_pred))\n",
        "print (\"Accuracy : \", accuracy_score(y_test, y_pred))\n",
        "print (\"Precision : \", precision_score(y_test, y_pred, average='micro'))\n",
        "print (\"Recall : \", recall_score(y_test, y_pred, average='micro'))\n",
        "print (\"F1 : \", f1_score(y_test, y_pred, average='micro'))\n",
        "     "
      ],
      "metadata": {
        "colab": {
          "base_uri": "https://localhost:8080/"
        },
        "id": "etv7fhotsYW2",
        "outputId": "59b0b94a-fb48-4dba-cd36-04499dd15603"
      },
      "execution_count": 30,
      "outputs": [
        {
          "output_type": "stream",
          "name": "stdout",
          "text": [
            "Confusion Matrix : \n",
            " [[2491    0    0    0    0    0    0    0    0    0    0    0    0    0\n",
            "     0    0    0    0    0    0    0    0    0]\n",
            " [ 101  175    0    0    0    0    0    0    0    0    0    0    0    0\n",
            "     0    0    0    0    0    0    0    0    0]\n",
            " [  79  118    0    1    0    0    0    0    0    0    0    0    0    0\n",
            "     0    0    0    0    0    0    0    0    0]\n",
            " [  65   76    0    0    0    0    0    0    0    0    0    0    0    0\n",
            "     0    0    0    0    0    0    0    0    0]\n",
            " [  29   43    0    0    0    0    0    0    0    0    0    0    0    0\n",
            "     0    0    0    0    0    0    0    0    0]\n",
            " [  21   22    0    0    0    0    0    0    0    0    0    0    0    0\n",
            "     0    0    0    0    0    0    0    0    0]\n",
            " [  17   15    0    0    0    0    0    0    0    0    0    0    0    0\n",
            "     0    0    0    0    0    0    0    0    0]\n",
            " [  14   13    0    0    0    0    0    0    0    0    0    0    0    0\n",
            "     0    0    0    0    0    0    0    0    0]\n",
            " [   9    6    0    0    0    0    0    0    0    0    0    0    0    0\n",
            "     0    0    0    0    0    0    0    0    0]\n",
            " [   6    6    0    0    0    0    0    0    0    0    0    0    0    0\n",
            "     0    0    0    0    0    0    0    0    0]\n",
            " [   4    8    0    0    0    0    0    0    0    0    0    0    0    0\n",
            "     0    0    0    0    0    0    0    0    0]\n",
            " [   3    7    0    0    0    0    0    0    0    0    0    0    0    0\n",
            "     0    0    0    0    0    0    0    0    0]\n",
            " [   3    1    0    0    0    0    0    0    0    0    0    0    0    0\n",
            "     0    0    0    0    0    0    0    0    0]\n",
            " [   0    3    0    0    0    0    0    0    0    0    0    0    0    0\n",
            "     0    0    0    0    0    0    0    0    0]\n",
            " [   1    1    0    0    0    0    0    0    0    0    0    0    0    0\n",
            "     0    0    0    0    0    0    0    0    0]\n",
            " [   1    2    0    0    0    0    0    0    0    0    0    0    0    0\n",
            "     0    0    0    0    0    0    0    0    0]\n",
            " [   0    2    0    0    0    0    0    0    0    0    0    0    0    0\n",
            "     0    0    0    0    0    0    0    0    0]\n",
            " [   0    1    0    0    0    0    0    0    0    0    0    0    0    0\n",
            "     0    0    0    0    0    0    0    0    0]\n",
            " [   0    1    0    0    0    0    0    0    0    0    0    0    0    0\n",
            "     0    0    0    0    0    0    0    0    0]\n",
            " [   1    0    0    0    0    0    0    0    0    0    0    0    0    0\n",
            "     0    0    0    0    0    0    0    0    0]\n",
            " [   1    0    0    0    0    0    0    0    0    0    0    0    0    0\n",
            "     0    0    0    0    0    0    0    0    0]\n",
            " [   0    1    0    0    0    0    0    0    0    0    0    0    0    0\n",
            "     0    0    0    0    0    0    0    0    0]\n",
            " [   0    1    0    0    0    0    0    0    0    0    0    0    0    0\n",
            "     0    0    0    0    0    0    0    0    0]]\n",
            "Accuracy :  0.7960585249328158\n",
            "Precision :  0.7960585249328158\n",
            "Recall :  0.7960585249328158\n",
            "F1 :  0.7960585249328158\n"
          ]
        }
      ]
    },
    {
      "cell_type": "markdown",
      "source": [
        "Using selection feature"
      ],
      "metadata": {
        "id": "Mj3AGI90scB2"
      }
    },
    {
      "cell_type": "code",
      "source": [
        "fs = SelectKBest(score_func=f_classif, k=2)\n",
        "# apply feature selection\n",
        "X_selected = fs.fit_transform(X, Y)\n",
        "Xs_train, Xs_test, ys_train, ys_test = train_test_split(X_selected, Y, test_size=0.3, train_size=0.7,  random_state = 1)\n",
        "clf.fit(Xs_train,ys_train)\n",
        "ys_pred = clf.predict(Xs_test)\n",
        "     "
      ],
      "metadata": {
        "id": "8s0TL8F3sdjO"
      },
      "execution_count": 31,
      "outputs": []
    },
    {
      "cell_type": "markdown",
      "source": [
        "Random Forest"
      ],
      "metadata": {
        "id": "ryAc5BX6shHV"
      }
    },
    {
      "cell_type": "code",
      "source": [
        "sicm=confusion_matrix(ys_test, ys_pred)\n",
        "rfuas=round(accuracy_score(ys_test, ys_pred),2)\n",
        "rfups=round(precision_score(ys_test, ys_pred, average='micro'),2)\n",
        "rfurs=round(recall_score(ys_test, ys_pred, average='micro'),2)\n",
        "rfufs=round(f1_score(ys_test, ys_pred, average='micro'),2)\n",
        "print (\"Confusion Matrix : \\n\", confusion_matrix(ys_test, ys_pred))\n",
        "print (\"Accuracy : \", accuracy_score(ys_test, ys_pred))\n",
        "print (\"Precision : \", precision_score(ys_test, ys_pred, average='micro'))\n",
        "print (\"Recall : \", recall_score(ys_test, ys_pred, average='micro'))\n",
        "print (\"F1 : \", f1_score(ys_test, ys_pred, average='micro'))\n",
        "     "
      ],
      "metadata": {
        "colab": {
          "base_uri": "https://localhost:8080/"
        },
        "id": "njdBYzxBsihq",
        "outputId": "5d993c06-7c05-4c24-b073-2f38a1ed023b"
      },
      "execution_count": 32,
      "outputs": [
        {
          "output_type": "stream",
          "name": "stdout",
          "text": [
            "Confusion Matrix : \n",
            " [[2491    0    0    0    0    0    0    0    0    0    0    0    0    0\n",
            "     0    0    0    0    0    0    0    0    0]\n",
            " [   2  269    5    0    0    0    0    0    0    0    0    0    0    0\n",
            "     0    0    0    0    0    0    0    0    0]\n",
            " [   0  196    2    0    0    0    0    0    0    0    0    0    0    0\n",
            "     0    0    0    0    0    0    0    0    0]\n",
            " [   5  136    0    0    0    0    0    0    0    0    0    0    0    0\n",
            "     0    0    0    0    0    0    0    0    0]\n",
            " [   0   71    1    0    0    0    0    0    0    0    0    0    0    0\n",
            "     0    0    0    0    0    0    0    0    0]\n",
            " [   1   42    0    0    0    0    0    0    0    0    0    0    0    0\n",
            "     0    0    0    0    0    0    0    0    0]\n",
            " [   3   28    1    0    0    0    0    0    0    0    0    0    0    0\n",
            "     0    0    0    0    0    0    0    0    0]\n",
            " [   1   26    0    0    0    0    0    0    0    0    0    0    0    0\n",
            "     0    0    0    0    0    0    0    0    0]\n",
            " [   1   14    0    0    0    0    0    0    0    0    0    0    0    0\n",
            "     0    0    0    0    0    0    0    0    0]\n",
            " [   1   11    0    0    0    0    0    0    0    0    0    0    0    0\n",
            "     0    0    0    0    0    0    0    0    0]\n",
            " [   0   12    0    0    0    0    0    0    0    0    0    0    0    0\n",
            "     0    0    0    0    0    0    0    0    0]\n",
            " [   0    9    1    0    0    0    0    0    0    0    0    0    0    0\n",
            "     0    0    0    0    0    0    0    0    0]\n",
            " [   0    4    0    0    0    0    0    0    0    0    0    0    0    0\n",
            "     0    0    0    0    0    0    0    0    0]\n",
            " [   0    3    0    0    0    0    0    0    0    0    0    0    0    0\n",
            "     0    0    0    0    0    0    0    0    0]\n",
            " [   0    2    0    0    0    0    0    0    0    0    0    0    0    0\n",
            "     0    0    0    0    0    0    0    0    0]\n",
            " [   0    3    0    0    0    0    0    0    0    0    0    0    0    0\n",
            "     0    0    0    0    0    0    0    0    0]\n",
            " [   0    2    0    0    0    0    0    0    0    0    0    0    0    0\n",
            "     0    0    0    0    0    0    0    0    0]\n",
            " [   0    1    0    0    0    0    0    0    0    0    0    0    0    0\n",
            "     0    0    0    0    0    0    0    0    0]\n",
            " [   0    1    0    0    0    0    0    0    0    0    0    0    0    0\n",
            "     0    0    0    0    0    0    0    0    0]\n",
            " [   0    1    0    0    0    0    0    0    0    0    0    0    0    0\n",
            "     0    0    0    0    0    0    0    0    0]\n",
            " [   0    1    0    0    0    0    0    0    0    0    0    0    0    0\n",
            "     0    0    0    0    0    0    0    0    0]\n",
            " [   0    1    0    0    0    0    0    0    0    0    0    0    0    0\n",
            "     0    0    0    0    0    0    0    0    0]\n",
            " [   0    1    0    0    0    0    0    0    0    0    0    0    0    0\n",
            "     0    0    0    0    0    0    0    0    0]]\n",
            "Accuracy :  0.8247237981487011\n",
            "Precision :  0.8247237981487011\n",
            "Recall :  0.8247237981487011\n",
            "F1 :  0.8247237981487011\n"
          ]
        }
      ]
    },
    {
      "cell_type": "markdown",
      "source": [
        "GaussianNB"
      ],
      "metadata": {
        "id": "DA_ykDvJslxO"
      }
    },
    {
      "cell_type": "code",
      "source": [
        "model = GaussianNB()\n",
        "model.fit(Xs_train, ys_train)\n",
        "ys_pred = model.predict(Xs_test)\n",
        "sicm=confusion_matrix(ys_test, ys_pred)\n",
        "gauas=round(accuracy_score(ys_test, ys_pred),2)\n",
        "gaups=round(precision_score(ys_test, ys_pred, average='micro'),2)\n",
        "gaurs=round(recall_score(ys_test, ys_pred, average='micro'),2)\n",
        "gaufs=round(f1_score(ys_test, ys_pred, average='micro'),2)\n",
        "print (\"Confusion Matrix : \\n\", confusion_matrix(ys_test, ys_pred))\n",
        "print (\"Accuracy : \", accuracy_score(ys_test, ys_pred))\n",
        "print (\"Precision : \", precision_score(ys_test, ys_pred, average='micro'))\n",
        "print (\"Recall : \", recall_score(ys_test, ys_pred, average='micro'))\n",
        "print (\"F1 : \", f1_score(ys_test, ys_pred, average='micro'))"
      ],
      "metadata": {
        "colab": {
          "base_uri": "https://localhost:8080/"
        },
        "id": "skpiK6HMsnKS",
        "outputId": "d940c991-14f8-4bf5-d60d-be857187b50e"
      },
      "execution_count": 33,
      "outputs": [
        {
          "output_type": "stream",
          "name": "stdout",
          "text": [
            "Confusion Matrix : \n",
            " [[2491    0    0    0    0    0    0    0    0    0    0    0    0    0\n",
            "     0    0    0    0    0    0    0    0    0    0    0    0    0]\n",
            " [   0  250   17    0    5    0    3    0    0    0    0    0    0    0\n",
            "     0    0    0    0    1    0    0    0    0    0    0    0    0]\n",
            " [   0  182    8    0    3    0    3    0    0    0    0    0    0    0\n",
            "     0    0    0    0    0    0    0    0    0    1    1    0    0]\n",
            " [   0  123   15    0    1    0    2    0    0    0    0    0    0    0\n",
            "     0    0    0    0    0    0    0    0    0    0    0    0    0]\n",
            " [   0   60    8    0    2    0    2    0    0    0    0    0    0    0\n",
            "     0    0    0    0    0    0    0    0    0    0    0    0    0]\n",
            " [   0   32    6    0    2    0    2    0    0    0    0    0    0    0\n",
            "     0    0    1    0    0    0    0    0    0    0    0    0    0]\n",
            " [   0   27    2    0    0    0    3    0    0    0    0    0    0    0\n",
            "     0    0    0    0    0    0    0    0    0    0    0    0    0]\n",
            " [   0   21    3    0    3    0    0    0    0    0    0    0    0    0\n",
            "     0    0    0    0    0    0    0    0    0    0    0    0    0]\n",
            " [   0   11    4    0    0    0    0    0    0    0    0    0    0    0\n",
            "     0    0    0    0    0    0    0    0    0    0    0    0    0]\n",
            " [   0   10    1    0    0    0    1    0    0    0    0    0    0    0\n",
            "     0    0    0    0    0    0    0    0    0    0    0    0    0]\n",
            " [   0   11    0    0    0    0    1    0    0    0    0    0    0    0\n",
            "     0    0    0    0    0    0    0    0    0    0    0    0    0]\n",
            " [   0    6    2    0    1    0    1    0    0    0    0    0    0    0\n",
            "     0    0    0    0    0    0    0    0    0    0    0    0    0]\n",
            " [   0    3    0    0    0    0    1    0    0    0    0    0    0    0\n",
            "     0    0    0    0    0    0    0    0    0    0    0    0    0]\n",
            " [   0    3    0    0    0    0    0    0    0    0    0    0    0    0\n",
            "     0    0    0    0    0    0    0    0    0    0    0    0    0]\n",
            " [   0    2    0    0    0    0    0    0    0    0    0    0    0    0\n",
            "     0    0    0    0    0    0    0    0    0    0    0    0    0]\n",
            " [   0    2    0    0    0    0    1    0    0    0    0    0    0    0\n",
            "     0    0    0    0    0    0    0    0    0    0    0    0    0]\n",
            " [   0    0    0    0    0    0    0    0    0    0    0    0    0    0\n",
            "     0    0    0    0    0    0    0    0    0    0    0    0    0]\n",
            " [   0    1    0    0    0    0    1    0    0    0    0    0    0    0\n",
            "     0    0    0    0    0    0    0    0    0    0    0    0    0]\n",
            " [   0    0    0    0    0    0    0    0    0    0    0    0    0    0\n",
            "     0    0    0    0    0    0    0    0    0    0    0    0    0]\n",
            " [   0    0    0    0    0    0    1    0    0    0    0    0    0    0\n",
            "     0    0    0    0    0    0    0    0    0    0    0    0    0]\n",
            " [   0    1    0    0    0    0    0    0    0    0    0    0    0    0\n",
            "     0    0    0    0    0    0    0    0    0    0    0    0    0]\n",
            " [   0    1    0    0    0    0    0    0    0    0    0    0    0    0\n",
            "     0    0    0    0    0    0    0    0    0    0    0    0    0]\n",
            " [   0    1    0    0    0    0    0    0    0    0    0    0    0    0\n",
            "     0    0    0    0    0    0    0    0    0    0    0    0    0]\n",
            " [   0    0    0    0    0    0    0    0    0    0    0    0    0    0\n",
            "     0    0    0    0    0    0    0    0    0    0    0    0    0]\n",
            " [   0    0    0    0    0    0    0    0    0    0    0    0    0    0\n",
            "     0    0    0    0    0    0    0    0    0    0    0    0    0]\n",
            " [   0    1    0    0    0    0    0    0    0    0    0    0    0    0\n",
            "     0    0    0    0    0    0    0    0    0    0    0    0    0]\n",
            " [   0    1    0    0    0    0    0    0    0    0    0    0    0    0\n",
            "     0    0    0    0    0    0    0    0    0    0    0    0    0]]\n",
            "Accuracy :  0.8223350253807107\n",
            "Precision :  0.8223350253807107\n",
            "Recall :  0.8223350253807107\n",
            "F1 :  0.8223350253807107\n"
          ]
        }
      ]
    },
    {
      "cell_type": "markdown",
      "source": [
        "SVM Radial Basis"
      ],
      "metadata": {
        "id": "bPAdZLt5sqqG"
      }
    },
    {
      "cell_type": "code",
      "source": [
        "clf = svm.SVC(kernel='rbf')\n",
        "#Train the model using the training sets\n",
        "clf.fit(Xs_train, ys_train)\n",
        "#Predict the response for test dataset\n",
        "y_pred = clf.predict(Xs_test)\n",
        "rbcm=confusion_matrix(ys_test, ys_pred)\n",
        "rbuas=round(accuracy_score(ys_test, ys_pred),2)\n",
        "rbups=round(precision_score(ys_test, ys_pred, average='micro'),2)\n",
        "rburs=round(recall_score(ys_test, ys_pred, average='micro'),2)\n",
        "rbufs=round(f1_score(ys_test, ys_pred, average='micro'),2)\n",
        "print (\"Confusion Matrix : \\n\", confusion_matrix(ys_test, ys_pred))\n",
        "print (\"Accuracy : \", accuracy_score(ys_test, ys_pred))\n",
        "print (\"Precision : \", precision_score(ys_test, ys_pred, average='micro'))\n",
        "print (\"Recall : \", recall_score(ys_test, ys_pred, average='micro'))\n",
        "print (\"F1 : \", f1_score(ys_test, ys_pred, average='micro'))\n",
        "     "
      ],
      "metadata": {
        "colab": {
          "base_uri": "https://localhost:8080/"
        },
        "id": "7Ex9oKR9sshu",
        "outputId": "c359f580-d9a0-495f-9170-e0f85dbf8e51"
      },
      "execution_count": 34,
      "outputs": [
        {
          "output_type": "stream",
          "name": "stdout",
          "text": [
            "Confusion Matrix : \n",
            " [[2491    0    0    0    0    0    0    0    0    0    0    0    0    0\n",
            "     0    0    0    0    0    0    0    0    0    0    0    0    0]\n",
            " [   0  250   17    0    5    0    3    0    0    0    0    0    0    0\n",
            "     0    0    0    0    1    0    0    0    0    0    0    0    0]\n",
            " [   0  182    8    0    3    0    3    0    0    0    0    0    0    0\n",
            "     0    0    0    0    0    0    0    0    0    1    1    0    0]\n",
            " [   0  123   15    0    1    0    2    0    0    0    0    0    0    0\n",
            "     0    0    0    0    0    0    0    0    0    0    0    0    0]\n",
            " [   0   60    8    0    2    0    2    0    0    0    0    0    0    0\n",
            "     0    0    0    0    0    0    0    0    0    0    0    0    0]\n",
            " [   0   32    6    0    2    0    2    0    0    0    0    0    0    0\n",
            "     0    0    1    0    0    0    0    0    0    0    0    0    0]\n",
            " [   0   27    2    0    0    0    3    0    0    0    0    0    0    0\n",
            "     0    0    0    0    0    0    0    0    0    0    0    0    0]\n",
            " [   0   21    3    0    3    0    0    0    0    0    0    0    0    0\n",
            "     0    0    0    0    0    0    0    0    0    0    0    0    0]\n",
            " [   0   11    4    0    0    0    0    0    0    0    0    0    0    0\n",
            "     0    0    0    0    0    0    0    0    0    0    0    0    0]\n",
            " [   0   10    1    0    0    0    1    0    0    0    0    0    0    0\n",
            "     0    0    0    0    0    0    0    0    0    0    0    0    0]\n",
            " [   0   11    0    0    0    0    1    0    0    0    0    0    0    0\n",
            "     0    0    0    0    0    0    0    0    0    0    0    0    0]\n",
            " [   0    6    2    0    1    0    1    0    0    0    0    0    0    0\n",
            "     0    0    0    0    0    0    0    0    0    0    0    0    0]\n",
            " [   0    3    0    0    0    0    1    0    0    0    0    0    0    0\n",
            "     0    0    0    0    0    0    0    0    0    0    0    0    0]\n",
            " [   0    3    0    0    0    0    0    0    0    0    0    0    0    0\n",
            "     0    0    0    0    0    0    0    0    0    0    0    0    0]\n",
            " [   0    2    0    0    0    0    0    0    0    0    0    0    0    0\n",
            "     0    0    0    0    0    0    0    0    0    0    0    0    0]\n",
            " [   0    2    0    0    0    0    1    0    0    0    0    0    0    0\n",
            "     0    0    0    0    0    0    0    0    0    0    0    0    0]\n",
            " [   0    0    0    0    0    0    0    0    0    0    0    0    0    0\n",
            "     0    0    0    0    0    0    0    0    0    0    0    0    0]\n",
            " [   0    1    0    0    0    0    1    0    0    0    0    0    0    0\n",
            "     0    0    0    0    0    0    0    0    0    0    0    0    0]\n",
            " [   0    0    0    0    0    0    0    0    0    0    0    0    0    0\n",
            "     0    0    0    0    0    0    0    0    0    0    0    0    0]\n",
            " [   0    0    0    0    0    0    1    0    0    0    0    0    0    0\n",
            "     0    0    0    0    0    0    0    0    0    0    0    0    0]\n",
            " [   0    1    0    0    0    0    0    0    0    0    0    0    0    0\n",
            "     0    0    0    0    0    0    0    0    0    0    0    0    0]\n",
            " [   0    1    0    0    0    0    0    0    0    0    0    0    0    0\n",
            "     0    0    0    0    0    0    0    0    0    0    0    0    0]\n",
            " [   0    1    0    0    0    0    0    0    0    0    0    0    0    0\n",
            "     0    0    0    0    0    0    0    0    0    0    0    0    0]\n",
            " [   0    0    0    0    0    0    0    0    0    0    0    0    0    0\n",
            "     0    0    0    0    0    0    0    0    0    0    0    0    0]\n",
            " [   0    0    0    0    0    0    0    0    0    0    0    0    0    0\n",
            "     0    0    0    0    0    0    0    0    0    0    0    0    0]\n",
            " [   0    1    0    0    0    0    0    0    0    0    0    0    0    0\n",
            "     0    0    0    0    0    0    0    0    0    0    0    0    0]\n",
            " [   0    1    0    0    0    0    0    0    0    0    0    0    0    0\n",
            "     0    0    0    0    0    0    0    0    0    0    0    0    0]]\n",
            "Accuracy :  0.8223350253807107\n",
            "Precision :  0.8223350253807107\n",
            "Recall :  0.8223350253807107\n",
            "F1 :  0.8223350253807107\n"
          ]
        }
      ]
    },
    {
      "cell_type": "markdown",
      "source": [
        "Compare"
      ],
      "metadata": {
        "id": "4sd3bF5YsvlF"
      }
    },
    {
      "cell_type": "code",
      "source": [
        "t= PrettyTable(['Algorithm','Using selection feature', 'Accuracy','Precision','Recall','F1'])\n",
        "t.add_row(['Random Forest','false',rfas,rfps,rfrs,rffs])\n",
        "t.add_row(['Random Forest','true',rfuas,rfups,rfurs,rfufs])\n",
        "t.add_row(['GaussianNB','false',gaas,gaps,gars,gafs])\n",
        "t.add_row(['GaussianNB','true',gauas,gaups,gaurs,gaufs])\n",
        "t.add_row(['SVM Radial Basis','false',rbas,rbps,rbrs,rbfs])\n",
        "t.add_row(['SVM Radial Basis','true',rbuas,rbups,rburs,rbufs])\n",
        "print(t)\n",
        "     "
      ],
      "metadata": {
        "colab": {
          "base_uri": "https://localhost:8080/"
        },
        "id": "iQ8bWtYQsw8G",
        "outputId": "0762b2c4-f09e-4654-9dd2-85cb65b4207b"
      },
      "execution_count": 35,
      "outputs": [
        {
          "output_type": "stream",
          "name": "stdout",
          "text": [
            "+------------------+-------------------------+----------+-----------+--------+------+\n",
            "|    Algorithm     | Using selection feature | Accuracy | Precision | Recall |  F1  |\n",
            "+------------------+-------------------------+----------+-----------+--------+------+\n",
            "|  Random Forest   |          false          |   0.8    |    0.8    |  0.8   | 0.8  |\n",
            "|  Random Forest   |           true          |   0.82   |    0.82   |  0.82  | 0.82 |\n",
            "|    GaussianNB    |          false          |   0.81   |    0.81   |  0.81  | 0.81 |\n",
            "|    GaussianNB    |           true          |   0.82   |    0.82   |  0.82  | 0.82 |\n",
            "| SVM Radial Basis |          false          |   0.8    |    0.8    |  0.8   | 0.8  |\n",
            "| SVM Radial Basis |           true          |   0.82   |    0.82   |  0.82  | 0.82 |\n",
            "+------------------+-------------------------+----------+-----------+--------+------+\n"
          ]
        }
      ]
    },
    {
      "cell_type": "markdown",
      "source": [
        "#Finally,\n",
        "Save a copy in your Github. Remember renaming the notebook."
      ],
      "metadata": {
        "id": "Ok7RGkea_b7n"
      }
    }
  ]
}